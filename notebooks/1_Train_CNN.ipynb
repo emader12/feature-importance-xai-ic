{
 "cells": [
  {
   "cell_type": "code",
   "execution_count": 3,
   "id": "53b60588-a394-4707-9ac9-214ae59ea346",
   "metadata": {},
   "outputs": [],
   "source": [
    "import numpy as np\n",
    "import pandas as pd\n",
    "import os\n",
    "from sklearn.model_selection import train_test_split\n",
    "from sklearn.preprocessing import StandardScaler, MinMaxScaler\n",
    "import tensorflow as tf\n",
    "from tensorflow import keras\n",
    "from tensorflow.keras.layers import Conv1D, MaxPooling1D, Flatten, Dense, Dropout\n",
    "from tensorflow.keras.callbacks import EarlyStopping\n",
    "from tensorflow.keras.models import save_model\n",
    "import matplotlib.pyplot as plt\n",
    "from bokeh.plotting import output_notebook\n",
    "from bokeh.plotting import figure, show\n",
    "import pickle\n",
    "\n",
    "import sys\n",
    "sys.path.append(\"../\")\n",
    "from src.TrainCNN import split_dataset, plot_ML_model_loss_bokeh"
   ]
  },
  {
   "cell_type": "markdown",
   "id": "5a2238f6-e180-452a-92e4-45b63c2e7469",
   "metadata": {},
   "source": [
    "# Train Convolutional Neural Network on Spectral Grid "
   ]
  },
  {
   "cell_type": "markdown",
   "id": "8459954b-a6bc-4a5d-a469-488e1c50ebae",
   "metadata": {},
   "source": [
    "## **1. Preprocessing**"
   ]
  },
  {
   "cell_type": "markdown",
   "id": "d5e052b7-7aca-4957-849f-1c230c57bd2e",
   "metadata": {},
   "source": [
    "Load the dataset into a DataFrame, with each row representing a spectrum and columns for both parameter values (output) and corresponding fluxes across wavelengths (input). Split the data into training, validation, and test sets, perform feature engineering, and standardize all features. The dataset should be structured as follows:"
   ]
  },
  {
   "cell_type": "markdown",
   "id": "c0c6e8ed-6d7a-4271-a5a8-5360c9942130",
   "metadata": {},
   "source": [
    "| Param 1     | Param 2     | Param 3     | ... | λ₁         | λ₂         | λ₃         | ... | λₙ         |\n",
    "|-------------|-------------|-------------|-----|-------------|-------------|-------------|-----|-------------|\n",
    "| value₁₁     | value₁₂     | value₁₃     | ... | flux₁₁      | flux₁₂      | flux₁₃      | ... | flux₁ₙ      |\n",
    "| value₂₁     | value₂₂     | value₂₃     | ... | flux₂₁      | flux₂₂      | flux₂₃      | ... | flux₂ₙ      |\n",
    "| ...         | ...         | ...         | ... | ...         | ...         | ...         | ... | ...         |\n",
    "\n"
   ]
  },
  {
   "cell_type": "markdown",
   "id": "ff4346cb-f139-4d24-8c9d-f15e7cb0b2ee",
   "metadata": {},
   "source": [
    "### 1.1 Load Dataset"
   ]
  },
  {
   "cell_type": "code",
   "execution_count": 4,
   "id": "7dbf507f-a002-4c57-8dc4-cd4452b7bb81",
   "metadata": {},
   "outputs": [],
   "source": [
    "# Load or create reference data path\n",
    "__dataset_path__ = os.getenv(\"TelescopeML_reference_data\")\n",
    "__folder__ = \"training_datasets\"\n",
    "\n",
    "# DataFrame with cols grid points then spectra\n",
    "__dataset_file__ = \"browndwarf_R100_v4_newWL_v3.csv.bz2\"\n",
    "dataset = pd.read_csv(os.path.join(__dataset_path__,__folder__,__dataset_file__), compression='bz2')\n",
    "\n",
    "# Wavelength grid of model\n",
    "__wavelength_file__ = \"wl.csv\"\n",
    "wl_synthetic = pd.read_csv(os.path.join(__dataset_path__,__folder__,__wavelength_file__)).to_numpy().squeeze()"
   ]
  },
  {
   "cell_type": "code",
   "execution_count": 5,
   "id": "f63e84d9-0de3-4bb8-a54c-99c1f9000a2d",
   "metadata": {},
   "outputs": [],
   "source": [
    "# Model parameters\n",
    "parameters = np.array(['gravity',\n",
    "             'temperature',\n",
    "             'c_o_ratio',\n",
    "             'metallicity'])\n",
    "\n",
    "# Training variables\n",
    "X = dataset.drop(\n",
    "    columns=parameters)\n",
    "\n",
    "# Target/Output feature variables\n",
    "y = dataset[parameters]\n",
    "\n",
    "# log transform temperature variable\n",
    "y.loc[:, 'temperature'] = np.log10(y['temperature'])"
   ]
  },
  {
   "cell_type": "markdown",
   "id": "304e785f-6a59-4fc8-b496-e5a6dfbe4f6d",
   "metadata": {},
   "source": [
    "### 1.2 Split Dataset into Train/Val/Test"
   ]
  },
  {
   "cell_type": "code",
   "execution_count": 6,
   "id": "c9c133c1-129b-4640-b578-14eaff7853b3",
   "metadata": {},
   "outputs": [],
   "source": [
    "X_train, X_test, X_val, y_train, y_test, y_val = split_dataset(flux_values=X.to_numpy(),\n",
    "                                                               output_values=y.to_numpy())"
   ]
  },
  {
   "cell_type": "markdown",
   "id": "c1746e75-ae3c-40e6-b30e-7ea794adacbd",
   "metadata": {},
   "source": [
    "### 1.3 (Optional) Logscale the spectra"
   ]
  },
  {
   "cell_type": "markdown",
   "id": "ec5a677e-2ca5-4879-9d84-9b8883db650e",
   "metadata": {},
   "source": [
    "Applying a scale (log or square root) to the spectra may reduce SHAP's tendency to \"follow the peaks.\" However, it may exaggerate the importance of small variations that aren't physically meaningful. Without scaling, we see lower XAI importance around regions where the flatter, high temperature spectra are sensitive according to IC. Scaling in this way could remedy that colder-spectra bias, if we decide it doesn't track physically."
   ]
  },
  {
   "cell_type": "code",
   "execution_count": 7,
   "id": "8e5414c5-324a-481d-b2e8-49f07e530924",
   "metadata": {},
   "outputs": [],
   "source": [
    "# Logscale model flux \n",
    "X_train = np.log10(X_train)\n",
    "X_val = np.log10(X_val)\n",
    "X_test = np.log10(X_test)"
   ]
  },
  {
   "cell_type": "markdown",
   "id": "2b883be4-84bb-4858-88fe-12ec06a8fbd5",
   "metadata": {},
   "source": [
    "### 1.4 Standardize X and Y"
   ]
  },
  {
   "cell_type": "code",
   "execution_count": 8,
   "id": "5eaa0230-c1ae-4bb9-a050-2c7384be225b",
   "metadata": {},
   "outputs": [],
   "source": [
    "__save__ = False"
   ]
  },
  {
   "cell_type": "code",
   "execution_count": 9,
   "id": "61d47e8d-e2b6-46d3-828b-84c00ca06f39",
   "metadata": {},
   "outputs": [],
   "source": [
    "# Standardize X rowwise\n",
    "scaler_X = StandardScaler()\n",
    "X_train_standardized_rowwise = scaler_X.fit_transform(X_train.T).T\n",
    "X_val_standardized_rowwise = scaler_X.fit_transform(X_val.T).T\n",
    "X_test_standardized_rowwise = scaler_X.fit_transform(X_test.T).T\n",
    "\n",
    "# Save X scaler \n",
    "if __save__:\n",
    "    with open('scaler_X.pkl', 'wb') as f:\n",
    "        pickle.dump(scaler_X, f)\n",
    "    \n",
    "# Standardize Y columnwise\n",
    "scaler_y = StandardScaler()\n",
    "y_train_standardized_columnwise = scaler_y.fit_transform(y_train)\n",
    "y_val_standardized_columnwise = scaler_y.transform(y_val)\n",
    "y_test_standardized_columnwise = scaler_y.transform(y_test)\n",
    "\n",
    "# Save Y scaler\n",
    "if __save__:\n",
    "    with open('scaler_y.pkl', 'wb') as f:\n",
    "        pickle.dump(scaler_y, f)"
   ]
  },
  {
   "cell_type": "code",
   "execution_count": 10,
   "id": "d6fd076b-efa5-445d-8f47-66940906bec8",
   "metadata": {},
   "outputs": [
    {
     "data": {
      "image/png": "[encoded data removed]",
      "text/plain": [
       "<Figure size 640x480 with 1 Axes>"
      ]
     },
     "metadata": {},
     "output_type": "display_data"
    }
   ],
   "source": [
    "label_dict = {'gravity':'logg',\n",
    "              'temperature':'logTeff',\n",
    "              'c_o_ratio':'C/O',\n",
    "              'metallicity':'[M/H]'}\n",
    "\n",
    "# Check output standardization\n",
    "plt.boxplot(y_train_standardized_columnwise)\n",
    "plt.grid(alpha=0.5)\n",
    "plt.xticks([1,2,3,4],labels=[label_dict[p] for p in parameters])\n",
    "plt.ylabel(\"Scaled Output Values\")\n",
    "plt.show()"
   ]
  },
  {
   "cell_type": "code",
   "execution_count": null,
   "id": "998ff168-8846-49dd-8c00-fc648df6094f",
   "metadata": {},
   "outputs": [],
   "source": [
    "# Check input standardization\n",
    "N = X_train_standardized_rowwise.shape[1]\n",
    "n_boxes = 30\n",
    "skip = max(1, N // n_boxes)\n",
    "xticks = np.arange(1, X_train_standardized_rowwise[:, ::skip].shape[1] + 1)\n",
    "\n",
    "plt.figure(figsize=(12, 5))\n",
    "plt.boxplot(X_train_standardized_rowwise[:, ::skip], showfliers=False)\n",
    "plt.xticks(xticks[::2], labels=np.round(wl_synthetic[::skip*2], 2))\n",
    "plt.xlabel(r\"Wavelength ($\\mu$m)\")\n",
    "plt.ylabel(\"Scaled Input Values\")\n",
    "plt.grid(alpha=0.5)\n",
    "plt.show()"
   ]
  },
  {
   "cell_type": "markdown",
   "id": "5f263ca6-d651-4f8e-bb96-2ff3742922d6",
   "metadata": {},
   "source": [
    "### 1.5 Feature Engineering: Auxiliary Input, Min and Max of Each Spectrum"
   ]
  },
  {
   "cell_type": "code",
   "execution_count": null,
   "id": "8154d591-dca3-4c0d-b1bb-be73be525ee5",
   "metadata": {},
   "outputs": [],
   "source": [
    "# Create new feature for train, val, and test sets\n",
    "datasets = [X_train, X_val, X_test]\n",
    "X_meta = [np.stack((X.min(axis=1), X.max(axis=1)), axis=1) for X in datasets]\n",
    "X_train_meta, X_val_meta, X_test_meta = X_meta"
   ]
  },
  {
   "cell_type": "markdown",
   "id": "754776fd-4890-49a4-8e21-5c4c9f357b05",
   "metadata": {},
   "source": [
    "### 1.6 Standardize Metadata"
   ]
  },
  {
   "cell_type": "code",
   "execution_count": null,
   "id": "b98060bb-aab4-48a6-af5f-fef5620ade7d",
   "metadata": {},
   "outputs": [],
   "source": [
    "# Standardize metadeta columnwise\n",
    "scaler_X = StandardScaler()\n",
    "X_train_standardized_columnwise = scaler_X.fit_transform(X_train_meta)\n",
    "X_val_standardized_columnwise = scaler_X.transform(X_val_meta)\n",
    "X_test_standardized_columnwise = scaler_X.transform(X_test_meta)\n",
    "\n",
    "# Save meta scaler\n",
    "if __save__:\n",
    "    with open('scaler_X_meta.pkl', 'wb') as f:\n",
    "        pickle.dump(scaler_X, f)"
   ]
  },
  {
   "cell_type": "markdown",
   "id": "e2eda24a-e450-40d4-9f05-d200aad68764",
   "metadata": {},
   "source": [
    "## **2. Build Model**"
   ]
  },
  {
   "cell_type": "markdown",
   "id": "c25feb7d-48be-46d2-a826-52b84d74ca01",
   "metadata": {},
   "source": [
    "Prepare the input and output data for each target, hyperparameter tuning, build model architecture including convolutional layers, compile the model, and save. "
   ]
  },
  {
   "cell_type": "markdown",
   "id": "e143ee80-c278-4338-843e-3a15c08f1fc4",
   "metadata": {},
   "source": [
    "### 2.1 Prepare Input and Output for CNN"
   ]
  },
  {
   "cell_type": "markdown",
   "id": "9baa12b2-4d1c-45b2-bbcd-dcfe5cd2699e",
   "metadata": {},
   "source": [
    "We prepare the CNN training data as follows:\n",
    "- **Inputs:**\n",
    "  - `X1_*`: Row-standardized spectra for each instance.\n",
    "  - `X2_*`: Column-standardized min/max flux values per instance (2 features).\n",
    "- **Targets:**\n",
    "  - `y1_*`: log(g)\n",
    "  - `y2_*`: C/O ratio\n",
    "  - `y3_*`: [M/H]\n",
    "  - `y4_*`: log(Teff)\n",
    "\n",
    "All inputs/outputs have been split into train, validation, and test sets."
   ]
  },
  {
   "cell_type": "markdown",
   "id": "6a7158f0-8a97-47fd-90a6-a5d48a6cbd51",
   "metadata": {},
   "source": [
    "### **Needs to be generalized⬇️**\n",
    "Just need to automate creating these arrays for any number of model parameters."
   ]
  },
  {
   "cell_type": "code",
   "execution_count": null,
   "id": "2beb6d7e-2e49-45b3-a3fd-eecf238061de",
   "metadata": {},
   "outputs": [],
   "source": [
    "# input dataset: StandardScaled instances\n",
    "X1_train = X_train_standardized_rowwise\n",
    "X1_val   = X_val_standardized_rowwise\n",
    "X1_test  = X_test_standardized_rowwise\n",
    "\n",
    "# input dataset: Min Max of each instance\n",
    "X2_train = X_train_standardized_columnwise\n",
    "X2_val   = X_val_standardized_columnwise\n",
    "X2_test  = X_test_standardized_columnwise\n",
    "\n",
    "# 1st target\n",
    "y1_train = y_train_standardized_columnwise[:,0] # logg\n",
    "y1_val   = y_val_standardized_columnwise[:,0]\n",
    "y1_test  = y_test_standardized_columnwise[:,0]\n",
    "\n",
    "# 2nd target\n",
    "y2_train = y_train_standardized_columnwise[:,1] # C/O\n",
    "y2_val   = y_val_standardized_columnwise[:,1]\n",
    "y2_test  = y_test_standardized_columnwise[:,1]\n",
    "\n",
    "# 3rd target\n",
    "y3_train = y_train_standardized_columnwise[:,2] # [M/H]\n",
    "y3_val   = y_val_standardized_columnwise[:,2]\n",
    "y3_test  = y_test_standardized_columnwise[:,2]\n",
    "\n",
    "# 4th target\n",
    "y4_train = y_train_standardized_columnwise[:,3] # logTeff\n",
    "y4_val   = y_val_standardized_columnwise[:,3]\n",
    "y4_test  = y_test_standardized_columnwise[:,3]"
   ]
  },
  {
   "cell_type": "code",
   "execution_count": null,
   "id": "e4f38197-057c-461a-a1e4-e1c6710e4e5a",
   "metadata": {},
   "outputs": [],
   "source": [
    "train_outputs = [y1_train, y2_train, y3_train, y4_train]\n",
    "val_outputs = [y1_val, y2_val, y3_val, y4_val]"
   ]
  },
  {
   "cell_type": "markdown",
   "id": "a8d9533f-10ac-408c-bca0-be5d3bfd23cc",
   "metadata": {},
   "source": [
    "### 2.2 BOHB Tuning"
   ]
  },
  {
   "cell_type": "markdown",
   "id": "8b057343-9267-48a7-aae0-09cc58faea11",
   "metadata": {},
   "source": [
    "Results of Bayesian Optimization with HyperBand (BOHB) used to tune CNN model architecture and training settings."
   ]
  },
  {
   "cell_type": "markdown",
   "id": "d833e02e-058c-4669-9a78-b748a755f591",
   "metadata": {},
   "source": [
    "# **⚠️Needs to be generalized⬇️**\n",
    "Need to create own BOHB tuning pipeline to optimize architecture for given spectral grid. "
   ]
  },
  {
   "cell_type": "code",
   "execution_count": null,
   "id": "dd2914b1-2f5d-43ac-b454-66a5a06abc6b",
   "metadata": {},
   "outputs": [],
   "source": [
    "# Assign model hyperparameters\n",
    "Conv__filters = 32\n",
    "Conv__kernel_size = 4\n",
    "Conv__MaxPooling1D = 3\n",
    "Conv__NumberLayers = 3\n",
    "Conv__NumberBlocks = 2\n",
    "\n",
    "FC1__units = 256\n",
    "FC1__dropout = 0.0013358917126831819\n",
    "FC1__NumberLayers = 3\n",
    "\n",
    "FC2__units = 128\n",
    "FC2__NumberLayers = 4\n",
    "FC2__dropout = 0.0018989744374361271\n",
    "FC2__NumberBlocks = 1\n",
    "\n",
    "lr = 0.00018890368162236508"
   ]
  },
  {
   "cell_type": "markdown",
   "id": "bb332920-5ffb-4823-8422-256b3663465c",
   "metadata": {},
   "source": [
    "### 2.3 Build Model"
   ]
  },
  {
   "cell_type": "markdown",
   "id": "0e3f7386-fe58-44b1-bd7d-6f1b64e46e6f",
   "metadata": {},
   "source": [
    "Define two inputs:\n",
    "- input_1: the 1D spectral data with shape (N wavelengths, 1 channel).\n",
    "- input_2: auxiliary features (min/max flux) with shape (2,)."
   ]
  },
  {
   "cell_type": "code",
   "execution_count": null,
   "id": "caceda03-eb4b-43b6-bf17-3043df9a1bc5",
   "metadata": {},
   "outputs": [],
   "source": [
    "# Shape of the inputs\n",
    "input_1 = tf.keras.layers.Input(shape=(N, 1)) # Add dimension\n",
    "input_2 = tf.keras.layers.Input(shape=(2,))"
   ]
  },
  {
   "cell_type": "markdown",
   "id": "9713627c-ff6e-45a0-9536-e8c57f6c4292",
   "metadata": {},
   "source": [
    "Build convolutional blocks on input_1 to extract hierarchical spectral features:\n",
    "- Each block has multiple Conv1D layers with increasing filters.\n",
    "- Each block ends with MaxPooling1D to downsample: highlight key features."
   ]
  },
  {
   "cell_type": "code",
   "execution_count": null,
   "id": "99f9feb9-58f9-4ad4-ac0f-11e51d7e99aa",
   "metadata": {},
   "outputs": [],
   "source": [
    "# Create Conv Blocks\n",
    "model = input_1\n",
    "for b in range(0, Conv__NumberBlocks):\n",
    "    for l in range(0, Conv__NumberLayers):\n",
    "        model = Conv1D(filters=Conv__filters * (b + l + 1) ** 2,\n",
    "                       kernel_size=Conv__kernel_size,\n",
    "                       strides = 1,\n",
    "                       padding ='same',\n",
    "                       activation='relu',\n",
    "                       kernel_initializer='he_normal',\n",
    "                       name='Conv__B' + str(b + 1) + '_L' + str(l + 1))(model)  # (model if l!= 0 and b!= 0 else input_1)\n",
    "\n",
    "    model = MaxPooling1D(pool_size=(Conv__MaxPooling1D),\n",
    "                         name='Conv__B' + str(b + 1) + '__MaxPooling1D')(model)"
   ]
  },
  {
   "cell_type": "markdown",
   "id": "654edab2-a57a-457a-9872-aca6d77a9faf",
   "metadata": {},
   "source": [
    "Flatten the output of the convolutional layers to prepare for dense layers."
   ]
  },
  {
   "cell_type": "code",
   "execution_count": null,
   "id": "35ce389a-6093-476d-9e13-ac75b920f21f",
   "metadata": {},
   "outputs": [],
   "source": [
    "# Flatten Layer\n",
    "model = Flatten()(model)"
   ]
  },
  {
   "cell_type": "markdown",
   "id": "bbc6f693-faa7-470e-87ed-93edaead39f3",
   "metadata": {},
   "source": [
    "Pass through fully connected (FC) layers before concatenation:\n",
    "- Number of units increases quadratically per layer.\n",
    "- Dropout is applied for regularization (prevent overfitting)."
   ]
  },
  {
   "cell_type": "code",
   "execution_count": null,
   "id": "22e5fb2b-73f1-45f4-a3c3-b7258eefec1c",
   "metadata": {},
   "outputs": [],
   "source": [
    "# FC Layer before the Concatenation\n",
    "for l in range(FC1__NumberLayers):\n",
    "    model = Dense(FC1__units * (l + 1) ** 2,\n",
    "                  activation='relu',\n",
    "                  kernel_initializer='he_normal',\n",
    "                  name='FC1__B1_L' + str(l + 1))(model)\n",
    "\n",
    "model = Dropout(FC2__dropout,\n",
    "                name='FC1__B1_L' + str(l + 1) + '__Dropout')(model)"
   ]
  },
  {
   "cell_type": "markdown",
   "id": "08f95fdd-e13e-41ef-b9ad-198a6567bca3",
   "metadata": {},
   "source": [
    "Concatenate the FC output with the auxiliary input_2 to combine spectral and meta features."
   ]
  },
  {
   "cell_type": "code",
   "execution_count": null,
   "id": "20cbb850-aaf6-4c86-a59c-c6df1dfefc9d",
   "metadata": {},
   "outputs": [],
   "source": [
    "# Concatenation Layer: Concatenate the outputs from the convolutional layers and dense layer\n",
    "model = tf.keras.layers.concatenate([model, input_2],\n",
    "                                    name='Concatenated_Layer')"
   ]
  },
  {
   "cell_type": "markdown",
   "id": "92c003f9-995e-4308-8c7d-8494d725285b",
   "metadata": {},
   "source": [
    "Process the concatenated features through additional FC blocks:\n",
    "- Each block has multiple dense layers with increasing units.\n",
    "- Dropout is applied for regularization (prevent overfitting)."
   ]
  },
  {
   "cell_type": "code",
   "execution_count": null,
   "id": "5e3e6ca8-f5c1-41ec-a373-f7ed5cde9e86",
   "metadata": {},
   "outputs": [],
   "source": [
    "# FC Block\n",
    "for b in range(0, FC2__NumberBlocks):\n",
    "    for l in range(0, FC2__NumberLayers):\n",
    "        model = Dense(FC2__units * (b + l + 1) ** 2,\n",
    "                      activation='relu',\n",
    "                      kernel_initializer='he_normal',\n",
    "                      name='FC2__B' + str(b + 1) + '_L' + str(l + 1))(model)  # (model if l!= 0 and b!= 0 else input_1)\n",
    "    model = Dropout(FC2__dropout,\n",
    "                    name='FC2__B'+ str(b + 1) + '_L' + str(l + 1) + '__Dropout')(model)\n",
    "    "
   ]
  },
  {
   "cell_type": "markdown",
   "id": "ad37237c-69bd-4236-b808-9d546c14ff09",
   "metadata": {},
   "source": [
    "### **Needs to be generalized⬇️**\n",
    "Just needs to be able to automatically create these layers and model for any list of parameter outputs."
   ]
  },
  {
   "cell_type": "code",
   "execution_count": null,
   "id": "2545ca13-d16c-4af0-a61a-64266569b117",
   "metadata": {},
   "outputs": [],
   "source": [
    "# 3rd FC Block: gravity\n",
    "out__gravity = Dense(1,\n",
    "                     activation='linear',\n",
    "                     name='output__gravity')(model)\n",
    "\n",
    "# 3rd FC Block: c_o_ratio\n",
    "out__c_o_ratio = Dense(1,\n",
    "                       activation='linear',\n",
    "                       name='output__c_o_ratio')(model)\n",
    "\n",
    "# 3rd FC Block: metallicity\n",
    "out__metallicity = Dense(1,\n",
    "                         activation='linear',\n",
    "                         name='output__metallicity')(model)\n",
    "\n",
    "# 3rd FC Block: temperature\n",
    "out__temperature = Dense(1,\n",
    "                         activation='linear',\n",
    "                         name='output__temperature')(model)"
   ]
  },
  {
   "cell_type": "code",
   "execution_count": null,
   "id": "4aca1d8f-6229-4768-b342-2a8446c9795b",
   "metadata": {},
   "outputs": [],
   "source": [
    "model_outputs = [out__gravity, out__c_o_ratio, out__metallicity, out__temperature]"
   ]
  },
  {
   "cell_type": "code",
   "execution_count": null,
   "id": "4fba62fe-15ea-4710-9084-40c3a6866c59",
   "metadata": {},
   "outputs": [],
   "source": [
    "# Create the model with two inputs and four outputs\n",
    "model = tf.keras.Model(inputs=[input_1, input_2],\n",
    "                       outputs=model_outputs)"
   ]
  },
  {
   "cell_type": "markdown",
   "id": "a9bad006-04ca-4c26-9e9f-ddac8aeb4249",
   "metadata": {},
   "source": [
    "### 2.4 Run the CNN Training "
   ]
  },
  {
   "cell_type": "markdown",
   "id": "a8048277-4106-4fc1-9847-18b0fa13c908",
   "metadata": {},
   "source": [
    "Select number of epochs (budget) and batch size."
   ]
  },
  {
   "cell_type": "code",
   "execution_count": null,
   "id": "ad9b02c5-3319-42a8-8da2-c1b7909006d0",
   "metadata": {},
   "outputs": [],
   "source": [
    "batch_size=300 #32\n",
    "budget=2 #70"
   ]
  },
  {
   "cell_type": "code",
   "execution_count": null,
   "id": "bd78ca0a-8575-4fc3-a6a3-449858940bbb",
   "metadata": {},
   "outputs": [],
   "source": [
    "# Compile the model with an optimizer, loss function, and metrics\n",
    "model.compile(loss='huber_loss',\n",
    "                   optimizer=keras.optimizers.Adam(learning_rate=lr),\n",
    "                   metrics=['mae'])"
   ]
  },
  {
   "cell_type": "code",
   "execution_count": null,
   "id": "86b07fa3-fdb8-4285-9da5-baa8051b3b07",
   "metadata": {},
   "outputs": [],
   "source": [
    "# Instantiate early stopping\n",
    "early_stop = EarlyStopping(monitor='loss', min_delta=4e-4, patience=50, mode='auto', \\\n",
    "                           restore_best_weights=True)"
   ]
  },
  {
   "cell_type": "markdown",
   "id": "676214ec-7faf-49ba-9542-f1fb27b6a2ba",
   "metadata": {},
   "source": [
    "Here we initialize the model training. "
   ]
  },
  {
   "cell_type": "code",
   "execution_count": null,
   "id": "a1388add-2afa-4c59-bf5c-81d57d1f7f0f",
   "metadata": {},
   "outputs": [],
   "source": [
    "# Fit the model\n",
    "history = model.fit(x=[X1_train, X2_train],\n",
    "                         y=train_outputs,\n",
    "                         batch_size = batch_size,  \n",
    "                         validation_data=(\n",
    "                         [X1_val, X2_val], val_outputs),\n",
    "                         epochs=int(budget),\n",
    "                         verbose=1,\n",
    "                         callbacks=[early_stop]\n",
    "                        )"
   ]
  },
  {
   "cell_type": "markdown",
   "id": "afb616bf-e8a0-4cd3-8b5c-d39c7f407110",
   "metadata": {},
   "source": [
    "### 2.5 Save model"
   ]
  },
  {
   "cell_type": "code",
   "execution_count": null,
   "id": "eaed2cee-f6b6-4c1b-8f8d-86cf50ae9f1d",
   "metadata": {},
   "outputs": [],
   "source": [
    "__model_file__ = \"sonora_bobcat_CNN.keras\"\n",
    "\n",
    "if __save__:\n",
    "    model.save(__model_file__)"
   ]
  },
  {
   "cell_type": "markdown",
   "id": "a942744b-9e07-48f9-8b93-fbe37474b42a",
   "metadata": {},
   "source": [
    "## **3. Inspect Output**"
   ]
  },
  {
   "cell_type": "markdown",
   "id": "0bb517fa-8950-4c5c-b49c-ce00c2dd9f00",
   "metadata": {},
   "source": [
    "Using Bokeh, plot the model loss."
   ]
  },
  {
   "cell_type": "code",
   "execution_count": null,
   "id": "eefdc400-ec9d-4504-a5a6-5a69f97bf4ee",
   "metadata": {},
   "outputs": [],
   "source": [
    "output_notebook()"
   ]
  },
  {
   "cell_type": "markdown",
   "id": "1d4a1cae-b599-43d6-b6e8-15f0faa1d148",
   "metadata": {},
   "source": [
    "### **Needs to be generalized⬇️**\n",
    "The plotting function depends on these specific parameters, should take list of them as input as well as dictionary mapping them to ouput in model. "
   ]
  },
  {
   "cell_type": "code",
   "execution_count": null,
   "id": "9b909c9f-8f49-478b-ba4e-1b6691b13e9a",
   "metadata": {},
   "outputs": [],
   "source": [
    "plot_ML_model_loss_bokeh(trained_ML_model_history=history.history)"
   ]
  },
  {
   "cell_type": "code",
   "execution_count": null,
   "id": "cd1710da-45dc-4d4d-a9c5-61c9e294b577",
   "metadata": {},
   "outputs": [],
   "source": []
  }
 ],
 "metadata": {
  "kernelspec": {
   "display_name": "Python 3 (ipykernel)",
   "language": "python",
   "name": "python3"
  },
  "language_info": {
   "codemirror_mode": {
    "name": "ipython",
    "version": 3
   },
   "file_extension": ".py",
   "mimetype": "text/x-python",
   "name": "python",
   "nbconvert_exporter": "python",
   "pygments_lexer": "ipython3",
   "version": "3.9.16"
  }
 },
 "nbformat": 4,
 "nbformat_minor": 5
}
