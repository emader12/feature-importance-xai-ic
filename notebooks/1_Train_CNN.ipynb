{
 "cells": [
  {
   "cell_type": "code",
   "execution_count": 1,
   "id": "53b60588-a394-4707-9ac9-214ae59ea346",
   "metadata": {},
   "outputs": [
    {
     "name": "stderr",
     "output_type": "stream",
     "text": [
      "2025-09-26 13:57:54.296506: I tensorflow/core/platform/cpu_feature_guard.cc:182] This TensorFlow binary is optimized to use available CPU instructions in performance-critical operations.\n",
      "To enable the following instructions: AVX2 FMA, in other operations, rebuild TensorFlow with the appropriate compiler flags.\n"
     ]
    }
   ],
   "source": [
    "import numpy as np\n",
    "import pandas as pd\n",
    "import os\n",
    "from sklearn.model_selection import train_test_split\n",
    "from sklearn.preprocessing import StandardScaler, MinMaxScaler\n",
    "import tensorflow as tf\n",
    "from tensorflow import keras\n",
    "from tensorflow.keras.layers import Conv1D, MaxPooling1D, Flatten, Dense, Dropout\n",
    "from tensorflow.keras.callbacks import EarlyStopping\n",
    "from tensorflow.keras.models import save_model\n",
    "import matplotlib.pyplot as plt\n",
    "from bokeh.plotting import output_notebook\n",
    "from bokeh.plotting import figure, show\n",
    "import pickle\n",
    "\n",
    "import sys\n",
    "sys.path.append(\"../\")\n",
    "from src.TrainCNN import split_dataset, plot_ML_model_loss_bokeh"
   ]
  },
  {
   "cell_type": "markdown",
   "id": "5a2238f6-e180-452a-92e4-45b63c2e7469",
   "metadata": {},
   "source": [
    "# Train Convolutional Neural Network on Spectral Grid "
   ]
  },
  {
   "cell_type": "markdown",
   "id": "8459954b-a6bc-4a5d-a469-488e1c50ebae",
   "metadata": {},
   "source": [
    "## **1. Preprocessing**"
   ]
  },
  {
   "cell_type": "markdown",
   "id": "d5e052b7-7aca-4957-849f-1c230c57bd2e",
   "metadata": {},
   "source": [
    "Load the dataset into a DataFrame, with each row representing a spectrum and columns for both parameter values (output) and corresponding fluxes across wavelengths (input). Split the data into training, validation, and test sets, perform feature engineering, and standardize all features. The dataset should be structured as follows:"
   ]
  },
  {
   "cell_type": "markdown",
   "id": "c0c6e8ed-6d7a-4271-a5a8-5360c9942130",
   "metadata": {},
   "source": [
    "| Param 1     | Param 2     | Param 3     | ... | λ₁         | λ₂         | λ₃         | ... | λₙ         |\n",
    "|-------------|-------------|-------------|-----|-------------|-------------|-------------|-----|-------------|\n",
    "| value₁₁     | value₁₂     | value₁₃     | ... | flux₁₁      | flux₁₂      | flux₁₃      | ... | flux₁ₙ      |\n",
    "| value₂₁     | value₂₂     | value₂₃     | ... | flux₂₁      | flux₂₂      | flux₂₃      | ... | flux₂ₙ      |\n",
    "| ...         | ...         | ...         | ... | ...         | ...         | ...         | ... | ...         |\n",
    "\n"
   ]
  },
  {
   "cell_type": "markdown",
   "id": "ff4346cb-f139-4d24-8c9d-f15e7cb0b2ee",
   "metadata": {},
   "source": [
    "### 1.1 Load Dataset"
   ]
  },
  {
   "cell_type": "code",
   "execution_count": 2,
   "id": "7dbf507f-a002-4c57-8dc4-cd4452b7bb81",
   "metadata": {},
   "outputs": [],
   "source": [
    "# Load or create reference data path\n",
    "__dataset_path__ = os.getenv(\"TelescopeML_reference_data\")\n",
    "__folder__ = \"training_datasets\"\n",
    "\n",
    "# DataFrame with cols grid points then spectra\n",
    "__dataset_file__ = \"browndwarf_R100_v4_newWL_v3.csv.bz2\"\n",
    "dataset = pd.read_csv(os.path.join(__dataset_path__,__folder__,__dataset_file__), compression='bz2')\n",
    "\n",
    "# Wavelength grid of model\n",
    "__wavelength_file__ = \"wl.csv\"\n",
    "wl_synthetic = pd.read_csv(os.path.join(__dataset_path__,__folder__,__wavelength_file__)).to_numpy().squeeze()"
   ]
  },
  {
   "cell_type": "code",
   "execution_count": 3,
   "id": "f63e84d9-0de3-4bb8-a54c-99c1f9000a2d",
   "metadata": {},
   "outputs": [],
   "source": [
    "# Model parameters\n",
    "parameters = np.array(['gravity',\n",
    "             'temperature',\n",
    "             'c_o_ratio',\n",
    "             'metallicity'])\n",
    "\n",
    "# Training variables\n",
    "X = dataset.drop(\n",
    "    columns=parameters)\n",
    "\n",
    "# Target/Output feature variables\n",
    "y = dataset[parameters]\n",
    "\n",
    "# log transform temperature variable\n",
    "y.loc[:, 'temperature'] = np.log10(y['temperature'])"
   ]
  },
  {
   "cell_type": "markdown",
   "id": "304e785f-6a59-4fc8-b496-e5a6dfbe4f6d",
   "metadata": {},
   "source": [
    "### 1.2 Split Dataset into Train/Val/Test"
   ]
  },
  {
   "cell_type": "code",
   "execution_count": 4,
   "id": "c9c133c1-129b-4640-b578-14eaff7853b3",
   "metadata": {},
   "outputs": [],
   "source": [
    "X_train, X_test, X_val, y_train, y_test, y_val = split_dataset(flux_values=X.to_numpy(),\n",
    "                                                               output_values=y.to_numpy())"
   ]
  },
  {
   "cell_type": "markdown",
   "id": "c1746e75-ae3c-40e6-b30e-7ea794adacbd",
   "metadata": {},
   "source": [
    "### 1.3 (Optional) Logscale the spectra"
   ]
  },
  {
   "cell_type": "markdown",
   "id": "ec5a677e-2ca5-4879-9d84-9b8883db650e",
   "metadata": {},
   "source": [
    "Applying a scale (log or square root) to the spectra may reduce SHAP's tendency to \"follow the peaks.\" However, it may exaggerate the importance of small variations that aren't physically meaningful. Without scaling, we see lower XAI importance around regions where the flatter, high temperature spectra are sensitive according to IC. Scaling in this way could remedy that colder-spectra bias, if we decide it doesn't track physically."
   ]
  },
  {
   "cell_type": "code",
   "execution_count": 5,
   "id": "8e5414c5-324a-481d-b2e8-49f07e530924",
   "metadata": {},
   "outputs": [],
   "source": [
    "# Logscale model flux \n",
    "X_train = np.log10(X_train)\n",
    "X_val = np.log10(X_val)\n",
    "X_test = np.log10(X_test)"
   ]
  },
  {
   "cell_type": "markdown",
   "id": "2b883be4-84bb-4858-88fe-12ec06a8fbd5",
   "metadata": {},
   "source": [
    "### 1.4 Standardize X and Y"
   ]
  },
  {
   "cell_type": "code",
   "execution_count": 6,
   "id": "5eaa0230-c1ae-4bb9-a050-2c7384be225b",
   "metadata": {},
   "outputs": [],
   "source": [
    "__save__ = False"
   ]
  },
  {
   "cell_type": "code",
   "execution_count": 7,
   "id": "61d47e8d-e2b6-46d3-828b-84c00ca06f39",
   "metadata": {},
   "outputs": [],
   "source": [
    "# Standardize X rowwise\n",
    "scaler_X = StandardScaler()\n",
    "X_train_standardized_rowwise = scaler_X.fit_transform(X_train.T).T\n",
    "X_val_standardized_rowwise = scaler_X.fit_transform(X_val.T).T\n",
    "X_test_standardized_rowwise = scaler_X.fit_transform(X_test.T).T\n",
    "\n",
    "# Save X scaler \n",
    "if __save__:\n",
    "    with open('scaler_X.pkl', 'wb') as f:\n",
    "        pickle.dump(scaler_X, f)\n",
    "    \n",
    "# Standardize Y columnwise\n",
    "scaler_y = StandardScaler()\n",
    "y_train_standardized_columnwise = scaler_y.fit_transform(y_train)\n",
    "y_val_standardized_columnwise = scaler_y.transform(y_val)\n",
    "y_test_standardized_columnwise = scaler_y.transform(y_test)\n",
    "\n",
    "# Save Y scaler\n",
    "if __save__:\n",
    "    with open('scaler_y.pkl', 'wb') as f:\n",
    "        pickle.dump(scaler_y, f)"
   ]
  },
  {
   "cell_type": "code",
   "execution_count": 8,
   "id": "d6fd076b-efa5-445d-8f47-66940906bec8",
   "metadata": {},
   "outputs": [
    {
     "data": {
      "image/png": "[encoded data removed]",
      "text/plain": [
       "<Figure size 640x480 with 1 Axes>"
      ]
     },
     "metadata": {},
     "output_type": "display_data"
    }
   ],
   "source": [
    "label_dict = {'gravity':'logg',\n",
    "              'temperature':'logTeff',\n",
    "              'c_o_ratio':'C/O',\n",
    "              'metallicity':'[M/H]'}\n",
    "\n",
    "# Check output standardization\n",
    "plt.boxplot(y_train_standardized_columnwise)\n",
    "plt.grid(alpha=0.5)\n",
    "plt.xticks([1,2,3,4],labels=[label_dict[p] for p in parameters])\n",
    "plt.ylabel(\"Scaled Output Values\")\n",
    "plt.show()"
   ]
  },
  {
   "cell_type": "code",
   "execution_count": 9,
   "id": "998ff168-8846-49dd-8c00-fc648df6094f",
   "metadata": {},
   "outputs": [
    {
     "data": {
      "image/png": "[encoded data removed]",
      "text/plain": [
       "<Figure size 1200x500 with 1 Axes>"
      ]
     },
     "metadata": {},
     "output_type": "display_data"
    }
   ],
   "source": [
    "# Check input standardization\n",
    "N = X_train_standardized_rowwise.shape[1]\n",
    "n_boxes = 30\n",
    "skip = max(1, N // n_boxes)\n",
    "xticks = np.arange(1, X_train_standardized_rowwise[:, ::skip].shape[1] + 1)\n",
    "\n",
    "plt.figure(figsize=(12, 5))\n",
    "plt.boxplot(X_train_standardized_rowwise[:, ::skip], showfliers=False)\n",
    "plt.xticks(xticks[::2], labels=np.round(wl_synthetic[::skip*2], 2))\n",
    "plt.xlabel(r\"Wavelength ($\\mu$m)\")\n",
    "plt.ylabel(\"Scaled Input Values\")\n",
    "plt.grid(alpha=0.5)\n",
    "plt.show()"
   ]
  },
  {
   "cell_type": "markdown",
   "id": "5f263ca6-d651-4f8e-bb96-2ff3742922d6",
   "metadata": {},
   "source": [
    "### 1.5 Feature Engineering: Auxiliary Input, Min and Max of Each Spectrum"
   ]
  },
  {
   "cell_type": "code",
   "execution_count": 10,
   "id": "8154d591-dca3-4c0d-b1bb-be73be525ee5",
   "metadata": {},
   "outputs": [],
   "source": [
    "# Create new feature for train, val, and test sets\n",
    "datasets = [X_train, X_val, X_test]\n",
    "X_meta = [np.stack((X.min(axis=1), X.max(axis=1)), axis=1) for X in datasets]\n",
    "X_train_meta, X_val_meta, X_test_meta = X_meta"
   ]
  },
  {
   "cell_type": "markdown",
   "id": "754776fd-4890-49a4-8e21-5c4c9f357b05",
   "metadata": {},
   "source": [
    "### 1.6 Standardize Metadata"
   ]
  },
  {
   "cell_type": "code",
   "execution_count": 11,
   "id": "b98060bb-aab4-48a6-af5f-fef5620ade7d",
   "metadata": {},
   "outputs": [],
   "source": [
    "# Standardize metadeta columnwise\n",
    "scaler_X = StandardScaler()\n",
    "X_train_standardized_columnwise = scaler_X.fit_transform(X_train_meta)\n",
    "X_val_standardized_columnwise = scaler_X.transform(X_val_meta)\n",
    "X_test_standardized_columnwise = scaler_X.transform(X_test_meta)\n",
    "\n",
    "# Save meta scaler\n",
    "if __save__:\n",
    "    with open('scaler_X_meta.pkl', 'wb') as f:\n",
    "        pickle.dump(scaler_X, f)"
   ]
  },
  {
   "cell_type": "markdown",
   "id": "e2eda24a-e450-40d4-9f05-d200aad68764",
   "metadata": {},
   "source": [
    "## **2. Build Model**"
   ]
  },
  {
   "cell_type": "markdown",
   "id": "c25feb7d-48be-46d2-a826-52b84d74ca01",
   "metadata": {},
   "source": [
    "Prepare the input and output data for each target, hyperparameter tuning, build model architecture including convolutional layers, compile the model, and save. "
   ]
  },
  {
   "cell_type": "markdown",
   "id": "e143ee80-c278-4338-843e-3a15c08f1fc4",
   "metadata": {},
   "source": [
    "### 2.1 Prepare Input and Output for CNN"
   ]
  },
  {
   "cell_type": "markdown",
   "id": "9baa12b2-4d1c-45b2-bbcd-dcfe5cd2699e",
   "metadata": {},
   "source": [
    "We prepare the CNN training data as follows:\n",
    "- **Inputs:**\n",
    "  - `X1_*`: Row-standardized spectra for each instance.\n",
    "  - `X2_*`: Column-standardized min/max flux values per instance (2 features).\n",
    "- **Targets:**\n",
    "  - `y1_*`: log(g)\n",
    "  - `y2_*`: C/O ratio\n",
    "  - `y3_*`: [M/H]\n",
    "  - `y4_*`: log(Teff)\n",
    "\n",
    "All inputs/outputs have been split into train, validation, and test sets."
   ]
  },
  {
   "cell_type": "markdown",
   "id": "6a7158f0-8a97-47fd-90a6-a5d48a6cbd51",
   "metadata": {},
   "source": [
    "### **Needs to be generalized⬇️**\n",
    "Just need to automate creating these arrays for any number of model parameters."
   ]
  },
  {
   "cell_type": "code",
   "execution_count": 12,
   "id": "2beb6d7e-2e49-45b3-a3fd-eecf238061de",
   "metadata": {},
   "outputs": [],
   "source": [
    "# input dataset: StandardScaled instances\n",
    "X1_train = X_train_standardized_rowwise\n",
    "X1_val   = X_val_standardized_rowwise\n",
    "X1_test  = X_test_standardized_rowwise\n",
    "\n",
    "# input dataset: Min Max of each instance\n",
    "X2_train = X_train_standardized_columnwise\n",
    "X2_val   = X_val_standardized_columnwise\n",
    "X2_test  = X_test_standardized_columnwise\n",
    "\n",
    "# 1st target\n",
    "y1_train = y_train_standardized_columnwise[:,0] # logg\n",
    "y1_val   = y_val_standardized_columnwise[:,0]\n",
    "y1_test  = y_test_standardized_columnwise[:,0]\n",
    "\n",
    "# 2nd target\n",
    "y2_train = y_train_standardized_columnwise[:,1] # C/O\n",
    "y2_val   = y_val_standardized_columnwise[:,1]\n",
    "y2_test  = y_test_standardized_columnwise[:,1]\n",
    "\n",
    "# 3rd target\n",
    "y3_train = y_train_standardized_columnwise[:,2] # [M/H]\n",
    "y3_val   = y_val_standardized_columnwise[:,2]\n",
    "y3_test  = y_test_standardized_columnwise[:,2]\n",
    "\n",
    "# 4th target\n",
    "y4_train = y_train_standardized_columnwise[:,3] # logTeff\n",
    "y4_val   = y_val_standardized_columnwise[:,3]\n",
    "y4_test  = y_test_standardized_columnwise[:,3]"
   ]
  },
  {
   "cell_type": "code",
   "execution_count": 13,
   "id": "e4f38197-057c-461a-a1e4-e1c6710e4e5a",
   "metadata": {},
   "outputs": [],
   "source": [
    "train_outputs = [y1_train, y2_train, y3_train, y4_train]\n",
    "val_outputs = [y1_val, y2_val, y3_val, y4_val]"
   ]
  },
  {
   "cell_type": "markdown",
   "id": "a8d9533f-10ac-408c-bca0-be5d3bfd23cc",
   "metadata": {},
   "source": [
    "### 2.2 BOHB Tuning"
   ]
  },
  {
   "cell_type": "markdown",
   "id": "8b057343-9267-48a7-aae0-09cc58faea11",
   "metadata": {},
   "source": [
    "Results of Bayesian Optimization with HyperBand (BOHB) used to tune CNN model architecture and training settings."
   ]
  },
  {
   "cell_type": "markdown",
   "id": "d833e02e-058c-4669-9a78-b748a755f591",
   "metadata": {},
   "source": [
    "# **⚠️Needs to be generalized⬇️**\n",
    "Need to create own BOHB tuning pipeline to optimize architecture for given spectral grid. "
   ]
  },
  {
   "cell_type": "code",
   "execution_count": 14,
   "id": "dd2914b1-2f5d-43ac-b454-66a5a06abc6b",
   "metadata": {},
   "outputs": [],
   "source": [
    "# Assign model hyperparameters\n",
    "Conv__filters = 32\n",
    "Conv__kernel_size = 4\n",
    "Conv__MaxPooling1D = 3\n",
    "Conv__NumberLayers = 3\n",
    "Conv__NumberBlocks = 2\n",
    "\n",
    "FC1__units = 256\n",
    "FC1__dropout = 0.0013358917126831819\n",
    "FC1__NumberLayers = 3\n",
    "\n",
    "FC2__units = 128\n",
    "FC2__NumberLayers = 4\n",
    "FC2__dropout = 0.0018989744374361271\n",
    "FC2__NumberBlocks = 1\n",
    "\n",
    "lr = 0.00018890368162236508"
   ]
  },
  {
   "cell_type": "markdown",
   "id": "bb332920-5ffb-4823-8422-256b3663465c",
   "metadata": {},
   "source": [
    "### 2.3 Build Model"
   ]
  },
  {
   "cell_type": "markdown",
   "id": "0e3f7386-fe58-44b1-bd7d-6f1b64e46e6f",
   "metadata": {},
   "source": [
    "Define two inputs:\n",
    "- input_1: the 1D spectral data with shape (N wavelengths, 1 channel).\n",
    "- input_2: auxiliary features (min/max flux) with shape (2,)."
   ]
  },
  {
   "cell_type": "code",
   "execution_count": 15,
   "id": "caceda03-eb4b-43b6-bf17-3043df9a1bc5",
   "metadata": {},
   "outputs": [],
   "source": [
    "# Shape of the inputs\n",
    "input_1 = tf.keras.layers.Input(shape=(N, 1)) # Add dimension\n",
    "input_2 = tf.keras.layers.Input(shape=(2,))"
   ]
  },
  {
   "cell_type": "markdown",
   "id": "9713627c-ff6e-45a0-9536-e8c57f6c4292",
   "metadata": {},
   "source": [
    "Build convolutional blocks on input_1 to extract hierarchical spectral features:\n",
    "- Each block has multiple Conv1D layers with increasing filters.\n",
    "- Each block ends with MaxPooling1D to downsample: highlight key features."
   ]
  },
  {
   "cell_type": "code",
   "execution_count": 16,
   "id": "99f9feb9-58f9-4ad4-ac0f-11e51d7e99aa",
   "metadata": {},
   "outputs": [],
   "source": [
    "# Create Conv Blocks\n",
    "model = input_1\n",
    "for b in range(0, Conv__NumberBlocks):\n",
    "    for l in range(0, Conv__NumberLayers):\n",
    "        model = Conv1D(filters=Conv__filters * (b + l + 1) ** 2,\n",
    "                       kernel_size=Conv__kernel_size,\n",
    "                       strides = 1,\n",
    "                       padding ='same',\n",
    "                       activation='relu',\n",
    "                       kernel_initializer='he_normal',\n",
    "                       name='Conv__B' + str(b + 1) + '_L' + str(l + 1))(model)  # (model if l!= 0 and b!= 0 else input_1)\n",
    "\n",
    "    model = MaxPooling1D(pool_size=(Conv__MaxPooling1D),\n",
    "                         name='Conv__B' + str(b + 1) + '__MaxPooling1D')(model)"
   ]
  },
  {
   "cell_type": "markdown",
   "id": "654edab2-a57a-457a-9872-aca6d77a9faf",
   "metadata": {},
   "source": [
    "Flatten the output of the convolutional layers to prepare for dense layers."
   ]
  },
  {
   "cell_type": "code",
   "execution_count": 17,
   "id": "35ce389a-6093-476d-9e13-ac75b920f21f",
   "metadata": {},
   "outputs": [],
   "source": [
    "# Flatten Layer\n",
    "model = Flatten()(model)"
   ]
  },
  {
   "cell_type": "markdown",
   "id": "bbc6f693-faa7-470e-87ed-93edaead39f3",
   "metadata": {},
   "source": [
    "Pass through fully connected (FC) layers before concatenation:\n",
    "- Number of units increases quadratically per layer.\n",
    "- Dropout is applied for regularization (prevent overfitting)."
   ]
  },
  {
   "cell_type": "code",
   "execution_count": 18,
   "id": "22e5fb2b-73f1-45f4-a3c3-b7258eefec1c",
   "metadata": {},
   "outputs": [],
   "source": [
    "# FC Layer before the Concatenation\n",
    "for l in range(FC1__NumberLayers):\n",
    "    model = Dense(FC1__units * (l + 1) ** 2,\n",
    "                  activation='relu',\n",
    "                  kernel_initializer='he_normal',\n",
    "                  name='FC1__B1_L' + str(l + 1))(model)\n",
    "\n",
    "model = Dropout(FC2__dropout,\n",
    "                name='FC1__B1_L' + str(l + 1) + '__Dropout')(model)"
   ]
  },
  {
   "cell_type": "markdown",
   "id": "08f95fdd-e13e-41ef-b9ad-198a6567bca3",
   "metadata": {},
   "source": [
    "Concatenate the FC output with the auxiliary input_2 to combine spectral and meta features."
   ]
  },
  {
   "cell_type": "code",
   "execution_count": 19,
   "id": "20cbb850-aaf6-4c86-a59c-c6df1dfefc9d",
   "metadata": {},
   "outputs": [],
   "source": [
    "# Concatenation Layer: Concatenate the outputs from the convolutional layers and dense layer\n",
    "model = tf.keras.layers.concatenate([model, input_2],\n",
    "                                    name='Concatenated_Layer')"
   ]
  },
  {
   "cell_type": "markdown",
   "id": "92c003f9-995e-4308-8c7d-8494d725285b",
   "metadata": {},
   "source": [
    "Process the concatenated features through additional FC blocks:\n",
    "- Each block has multiple dense layers with increasing units.\n",
    "- Dropout is applied for regularization (prevent overfitting)."
   ]
  },
  {
   "cell_type": "code",
   "execution_count": 20,
   "id": "5e3e6ca8-f5c1-41ec-a373-f7ed5cde9e86",
   "metadata": {},
   "outputs": [],
   "source": [
    "# FC Block\n",
    "for b in range(0, FC2__NumberBlocks):\n",
    "    for l in range(0, FC2__NumberLayers):\n",
    "        model = Dense(FC2__units * (b + l + 1) ** 2,\n",
    "                      activation='relu',\n",
    "                      kernel_initializer='he_normal',\n",
    "                      name='FC2__B' + str(b + 1) + '_L' + str(l + 1))(model)  # (model if l!= 0 and b!= 0 else input_1)\n",
    "    model = Dropout(FC2__dropout,\n",
    "                    name='FC2__B'+ str(b + 1) + '_L' + str(l + 1) + '__Dropout')(model)\n",
    "    "
   ]
  },
  {
   "cell_type": "markdown",
   "id": "ad37237c-69bd-4236-b808-9d546c14ff09",
   "metadata": {},
   "source": [
    "### **Needs to be generalized⬇️**\n",
    "Just needs to be able to automatically create these layers and model for any list of parameter outputs."
   ]
  },
  {
   "cell_type": "code",
   "execution_count": 21,
   "id": "2545ca13-d16c-4af0-a61a-64266569b117",
   "metadata": {},
   "outputs": [],
   "source": [
    "# 3rd FC Block: gravity\n",
    "out__gravity = Dense(1,\n",
    "                     activation='linear',\n",
    "                     name='output__gravity')(model)\n",
    "\n",
    "# 3rd FC Block: c_o_ratio\n",
    "out__c_o_ratio = Dense(1,\n",
    "                       activation='linear',\n",
    "                       name='output__c_o_ratio')(model)\n",
    "\n",
    "# 3rd FC Block: metallicity\n",
    "out__metallicity = Dense(1,\n",
    "                         activation='linear',\n",
    "                         name='output__metallicity')(model)\n",
    "\n",
    "# 3rd FC Block: temperature\n",
    "out__temperature = Dense(1,\n",
    "                         activation='linear',\n",
    "                         name='output__temperature')(model)"
   ]
  },
  {
   "cell_type": "code",
   "execution_count": 22,
   "id": "4aca1d8f-6229-4768-b342-2a8446c9795b",
   "metadata": {},
   "outputs": [],
   "source": [
    "model_outputs = [out__gravity, out__c_o_ratio, out__metallicity, out__temperature]"
   ]
  },
  {
   "cell_type": "code",
   "execution_count": 23,
   "id": "4fba62fe-15ea-4710-9084-40c3a6866c59",
   "metadata": {},
   "outputs": [],
   "source": [
    "# Create the model with two inputs and four outputs\n",
    "model = tf.keras.Model(inputs=[input_1, input_2],\n",
    "                       outputs=model_outputs)"
   ]
  },
  {
   "cell_type": "markdown",
   "id": "a9bad006-04ca-4c26-9e9f-ddac8aeb4249",
   "metadata": {},
   "source": [
    "### 2.4 Run the CNN Training "
   ]
  },
  {
   "cell_type": "markdown",
   "id": "a8048277-4106-4fc1-9847-18b0fa13c908",
   "metadata": {},
   "source": [
    "Select number of epochs (budget) and batch size."
   ]
  },
  {
   "cell_type": "code",
   "execution_count": 24,
   "id": "ad9b02c5-3319-42a8-8da2-c1b7909006d0",
   "metadata": {},
   "outputs": [],
   "source": [
    "# test values\n",
    "batch_size=300 #32\n",
    "budget=2 #70"
   ]
  },
  {
   "cell_type": "code",
   "execution_count": 25,
   "id": "bd78ca0a-8575-4fc3-a6a3-449858940bbb",
   "metadata": {},
   "outputs": [],
   "source": [
    "# Compile the model with an optimizer, loss function, and metrics\n",
    "model.compile(loss='huber_loss',\n",
    "                   optimizer=keras.optimizers.Adam(learning_rate=lr),\n",
    "                   metrics=['mae'])"
   ]
  },
  {
   "cell_type": "code",
   "execution_count": 26,
   "id": "86b07fa3-fdb8-4285-9da5-baa8051b3b07",
   "metadata": {},
   "outputs": [],
   "source": [
    "# Instantiate early stopping\n",
    "early_stop = EarlyStopping(monitor='loss', min_delta=4e-4, patience=50, mode='auto', \\\n",
    "                           restore_best_weights=True)"
   ]
  },
  {
   "cell_type": "markdown",
   "id": "676214ec-7faf-49ba-9542-f1fb27b6a2ba",
   "metadata": {},
   "source": [
    "Here we initialize the model training. "
   ]
  },
  {
   "cell_type": "code",
   "execution_count": 27,
   "id": "a1388add-2afa-4c59-bf5c-81d57d1f7f0f",
   "metadata": {},
   "outputs": [
    {
     "name": "stdout",
     "output_type": "stream",
     "text": [
      "Epoch 1/2\n",
      "84/84 [==============================] - 43s 480ms/step - loss: 0.7301 - output__gravity_loss: 0.2547 - output__c_o_ratio_loss: 0.0835 - output__metallicity_loss: 0.1506 - output__temperature_loss: 0.2413 - output__gravity_mae: 0.5511 - output__c_o_ratio_mae: 0.2430 - output__metallicity_mae: 0.4050 - output__temperature_mae: 0.5302 - val_loss: 0.1588 - val_output__gravity_loss: 0.0338 - val_output__c_o_ratio_loss: 0.0044 - val_output__metallicity_loss: 0.0255 - val_output__temperature_loss: 0.0951 - val_output__gravity_mae: 0.1960 - val_output__c_o_ratio_mae: 0.0751 - val_output__metallicity_mae: 0.1790 - val_output__temperature_mae: 0.3562\n",
      "Epoch 2/2\n",
      "84/84 [==============================] - 42s 502ms/step - loss: 0.1175 - output__gravity_loss: 0.0297 - output__c_o_ratio_loss: 0.0052 - output__metallicity_loss: 0.0211 - output__temperature_loss: 0.0615 - output__gravity_mae: 0.1843 - output__c_o_ratio_mae: 0.0805 - output__metallicity_mae: 0.1619 - output__temperature_mae: 0.2789 - val_loss: 0.0888 - val_output__gravity_loss: 0.0132 - val_output__c_o_ratio_loss: 0.0020 - val_output__metallicity_loss: 0.0165 - val_output__temperature_loss: 0.0571 - val_output__gravity_mae: 0.1201 - val_output__c_o_ratio_mae: 0.0502 - val_output__metallicity_mae: 0.1422 - val_output__temperature_mae: 0.2730\n"
     ]
    }
   ],
   "source": [
    "# Fit the model\n",
    "history = model.fit(x=[X1_train, X2_train],\n",
    "                         y=train_outputs,\n",
    "                         batch_size = batch_size,  \n",
    "                         validation_data=(\n",
    "                         [X1_val, X2_val], val_outputs),\n",
    "                         epochs=int(budget),\n",
    "                         verbose=1,\n",
    "                         callbacks=[early_stop]\n",
    "                        )"
   ]
  },
  {
   "cell_type": "markdown",
   "id": "afb616bf-e8a0-4cd3-8b5c-d39c7f407110",
   "metadata": {},
   "source": [
    "### 2.5 Save model"
   ]
  },
  {
   "cell_type": "code",
   "execution_count": 28,
   "id": "eaed2cee-f6b6-4c1b-8f8d-86cf50ae9f1d",
   "metadata": {},
   "outputs": [],
   "source": [
    "__model_file__ = \"sonora_bobcat_CNN.keras\"\n",
    "\n",
    "if __save__:\n",
    "    model.save(__model_file__)"
   ]
  },
  {
   "cell_type": "markdown",
   "id": "a942744b-9e07-48f9-8b93-fbe37474b42a",
   "metadata": {},
   "source": [
    "## **3. Inspect Output**"
   ]
  },
  {
   "cell_type": "markdown",
   "id": "0bb517fa-8950-4c5c-b49c-ce00c2dd9f00",
   "metadata": {},
   "source": [
    "Using Bokeh, plot the model loss."
   ]
  },
  {
   "cell_type": "code",
   "execution_count": 29,
   "id": "eefdc400-ec9d-4504-a5a6-5a69f97bf4ee",
   "metadata": {},
   "outputs": [
    {
     "data": {
      "text/html": [
       "<style>\n",
       "        .bk-notebook-logo {\n",
       "            display: block;\n",
       "            width: 20px;\n",
       "            height: 20px;\n",
       "            background-image: url(data:image/png;base64,iVBORw0KGgoAAAANSUhEUgAAABQAAAAUCAYAAACNiR0NAAAABHNCSVQICAgIfAhkiAAAAAlwSFlzAAALEgAACxIB0t1+/AAAABx0RVh0U29mdHdhcmUAQWRvYmUgRmlyZXdvcmtzIENTNui8sowAAAOkSURBVDiNjZRtaJVlGMd/1/08zzln5zjP1LWcU9N0NkN8m2CYjpgQYQXqSs0I84OLIC0hkEKoPtiH3gmKoiJDU7QpLgoLjLIQCpEsNJ1vqUOdO7ppbuec5+V+rj4ctwzd8IIbbi6u+8f1539dt3A78eXC7QizUF7gyV1fD1Yqg4JWz84yffhm0qkFqBogB9rM8tZdtwVsPUhWhGcFJngGeWrPzHm5oaMmkfEg1usvLFyc8jLRqDOMru7AyC8saQr7GG7f5fvDeH7Ej8CM66nIF+8yngt6HWaKh7k49Soy9nXurCi1o3qUbS3zWfrYeQDTB/Qj6kX6Ybhw4B+bOYoLKCC9H3Nu/leUTZ1JdRWkkn2ldcCamzrcf47KKXdAJllSlxAOkRgyHsGC/zRday5Qld9DyoM4/q/rUoy/CXh3jzOu3bHUVZeU+DEn8FInkPBFlu3+nW3Nw0mk6vCDiWg8CeJaxEwuHS3+z5RgY+YBR6V1Z1nxSOfoaPa4LASWxxdNp+VWTk7+4vzaou8v8PN+xo+KY2xsw6une2frhw05CTYOmQvsEhjhWjn0bmXPjpE1+kplmmkP3suftwTubK9Vq22qKmrBhpY4jvd5afdRA3wGjFAgcnTK2s4hY0/GPNIb0nErGMCRxWOOX64Z8RAC4oCXdklmEvcL8o0BfkNK4lUg9HTl+oPlQxdNo3Mg4Nv175e/1LDGzZen30MEjRUtmXSfiTVu1kK8W4txyV6BMKlbgk3lMwYCiusNy9fVfvvwMxv8Ynl6vxoByANLTWplvuj/nF9m2+PDtt1eiHPBr1oIfhCChQMBw6Aw0UulqTKZdfVvfG7VcfIqLG9bcldL/+pdWTLxLUy8Qq38heUIjh4XlzZxzQm19lLFlr8vdQ97rjZVOLf8nclzckbcD4wxXMidpX30sFd37Fv/GtwwhzhxGVAprjbg0gCAEeIgwCZyTV2Z1REEW8O4py0wsjeloKoMr6iCY6dP92H6Vw/oTyICIthibxjm/DfN9lVz8IqtqKYLUXfoKVMVQVVJOElGjrnnUt9T9wbgp8AyYKaGlqingHZU/uG2NTZSVqwHQTWkx9hxjkpWDaCg6Ckj5qebgBVbT3V3NNXMSiWSDdGV3hrtzla7J+duwPOToIg42ChPQOQjspnSlp1V+Gjdged7+8UN5CRAV7a5EdFNwCjEaBR27b3W890TE7g24NAP/mMDXRWrGoFPQI9ls/MWO2dWFAar/xcOIImbbpA3zgAAAABJRU5ErkJggg==);\n",
       "        }\n",
       "    </style>\n",
       "    <div>\n",
       "        <a href=\"https://bokeh.org\" target=\"_blank\" class=\"bk-notebook-logo\"></a>\n",
       "        <span id=\"d5724454-0e68-4ff3-bbf4-b389f57e3143\">Loading BokehJS ...</span>\n",
       "    </div>\n"
      ]
     },
     "metadata": {},
     "output_type": "display_data"
    },
    {
     "data": {
      "application/javascript": [
       "(function(root) {\n",
       "  function now() {\n",
       "    return new Date();\n",
       "  }\n",
       "\n",
       "  const force = true;\n",
       "\n",
       "  if (typeof root._bokeh_onload_callbacks === \"undefined\" || force === true) {\n",
       "    root._bokeh_onload_callbacks = [];\n",
       "    root._bokeh_is_loading = undefined;\n",
       "  }\n",
       "\n",
       "const JS_MIME_TYPE = 'application/javascript';\n",
       "  const HTML_MIME_TYPE = 'text/html';\n",
       "  const EXEC_MIME_TYPE = 'application/vnd.bokehjs_exec.v0+json';\n",
       "  const CLASS_NAME = 'output_bokeh rendered_html';\n",
       "\n",
       "  /**\n",
       "   * Render data to the DOM node\n",
       "   */\n",
       "  function render(props, node) {\n",
       "    const script = document.createElement(\"script\");\n",
       "    node.appendChild(script);\n",
       "  }\n",
       "\n",
       "  /**\n",
       "   * Handle when an output is cleared or removed\n",
       "   */\n",
       "  function handleClearOutput(event, handle) {\n",
       "    const cell = handle.cell;\n",
       "\n",
       "    const id = cell.output_area._bokeh_element_id;\n",
       "    const server_id = cell.output_area._bokeh_server_id;\n",
       "    // Clean up Bokeh references\n",
       "    if (id != null && id in Bokeh.index) {\n",
       "      Bokeh.index[id].model.document.clear();\n",
       "      delete Bokeh.index[id];\n",
       "    }\n",
       "\n",
       "    if (server_id !== undefined) {\n",
       "      // Clean up Bokeh references\n",
       "      const cmd_clean = \"from bokeh.io.state import curstate; print(curstate().uuid_to_server['\" + server_id + \"'].get_sessions()[0].document.roots[0]._id)\";\n",
       "      cell.notebook.kernel.execute(cmd_clean, {\n",
       "        iopub: {\n",
       "          output: function(msg) {\n",
       "            const id = msg.content.text.trim();\n",
       "            if (id in Bokeh.index) {\n",
       "              Bokeh.index[id].model.document.clear();\n",
       "              delete Bokeh.index[id];\n",
       "            }\n",
       "          }\n",
       "        }\n",
       "      });\n",
       "      // Destroy server and session\n",
       "      const cmd_destroy = \"import bokeh.io.notebook as ion; ion.destroy_server('\" + server_id + \"')\";\n",
       "      cell.notebook.kernel.execute(cmd_destroy);\n",
       "    }\n",
       "  }\n",
       "\n",
       "  /**\n",
       "   * Handle when a new output is added\n",
       "   */\n",
       "  function handleAddOutput(event, handle) {\n",
       "    const output_area = handle.output_area;\n",
       "    const output = handle.output;\n",
       "\n",
       "    // limit handleAddOutput to display_data with EXEC_MIME_TYPE content only\n",
       "    if ((output.output_type != \"display_data\") || (!Object.prototype.hasOwnProperty.call(output.data, EXEC_MIME_TYPE))) {\n",
       "      return\n",
       "    }\n",
       "\n",
       "    const toinsert = output_area.element.find(\".\" + CLASS_NAME.split(' ')[0]);\n",
       "\n",
       "    if (output.metadata[EXEC_MIME_TYPE][\"id\"] !== undefined) {\n",
       "      toinsert[toinsert.length - 1].firstChild.textContent = output.data[JS_MIME_TYPE];\n",
       "      // store reference to embed id on output_area\n",
       "      output_area._bokeh_element_id = output.metadata[EXEC_MIME_TYPE][\"id\"];\n",
       "    }\n",
       "    if (output.metadata[EXEC_MIME_TYPE][\"server_id\"] !== undefined) {\n",
       "      const bk_div = document.createElement(\"div\");\n",
       "      bk_div.innerHTML = output.data[HTML_MIME_TYPE];\n",
       "      const script_attrs = bk_div.children[0].attributes;\n",
       "      for (let i = 0; i < script_attrs.length; i++) {\n",
       "        toinsert[toinsert.length - 1].firstChild.setAttribute(script_attrs[i].name, script_attrs[i].value);\n",
       "        toinsert[toinsert.length - 1].firstChild.textContent = bk_div.children[0].textContent\n",
       "      }\n",
       "      // store reference to server id on output_area\n",
       "      output_area._bokeh_server_id = output.metadata[EXEC_MIME_TYPE][\"server_id\"];\n",
       "    }\n",
       "  }\n",
       "\n",
       "  function register_renderer(events, OutputArea) {\n",
       "\n",
       "    function append_mime(data, metadata, element) {\n",
       "      // create a DOM node to render to\n",
       "      const toinsert = this.create_output_subarea(\n",
       "        metadata,\n",
       "        CLASS_NAME,\n",
       "        EXEC_MIME_TYPE\n",
       "      );\n",
       "      this.keyboard_manager.register_events(toinsert);\n",
       "      // Render to node\n",
       "      const props = {data: data, metadata: metadata[EXEC_MIME_TYPE]};\n",
       "      render(props, toinsert[toinsert.length - 1]);\n",
       "      element.append(toinsert);\n",
       "      return toinsert\n",
       "    }\n",
       "\n",
       "    /* Handle when an output is cleared or removed */\n",
       "    events.on('clear_output.CodeCell', handleClearOutput);\n",
       "    events.on('delete.Cell', handleClearOutput);\n",
       "\n",
       "    /* Handle when a new output is added */\n",
       "    events.on('output_added.OutputArea', handleAddOutput);\n",
       "\n",
       "    /**\n",
       "     * Register the mime type and append_mime function with output_area\n",
       "     */\n",
       "    OutputArea.prototype.register_mime_type(EXEC_MIME_TYPE, append_mime, {\n",
       "      /* Is output safe? */\n",
       "      safe: true,\n",
       "      /* Index of renderer in `output_area.display_order` */\n",
       "      index: 0\n",
       "    });\n",
       "  }\n",
       "\n",
       "  // register the mime type if in Jupyter Notebook environment and previously unregistered\n",
       "  if (root.Jupyter !== undefined) {\n",
       "    const events = require('base/js/events');\n",
       "    const OutputArea = require('notebook/js/outputarea').OutputArea;\n",
       "\n",
       "    if (OutputArea.prototype.mime_types().indexOf(EXEC_MIME_TYPE) == -1) {\n",
       "      register_renderer(events, OutputArea);\n",
       "    }\n",
       "  }\n",
       "  if (typeof (root._bokeh_timeout) === \"undefined\" || force === true) {\n",
       "    root._bokeh_timeout = Date.now() + 5000;\n",
       "    root._bokeh_failed_load = false;\n",
       "  }\n",
       "\n",
       "  const NB_LOAD_WARNING = {'data': {'text/html':\n",
       "     \"<div style='background-color: #fdd'>\\n\"+\n",
       "     \"<p>\\n\"+\n",
       "     \"BokehJS does not appear to have successfully loaded. If loading BokehJS from CDN, this \\n\"+\n",
       "     \"may be due to a slow or bad network connection. Possible fixes:\\n\"+\n",
       "     \"</p>\\n\"+\n",
       "     \"<ul>\\n\"+\n",
       "     \"<li>re-rerun `output_notebook()` to attempt to load from CDN again, or</li>\\n\"+\n",
       "     \"<li>use INLINE resources instead, as so:</li>\\n\"+\n",
       "     \"</ul>\\n\"+\n",
       "     \"<code>\\n\"+\n",
       "     \"from bokeh.resources import INLINE\\n\"+\n",
       "     \"output_notebook(resources=INLINE)\\n\"+\n",
       "     \"</code>\\n\"+\n",
       "     \"</div>\"}};\n",
       "\n",
       "  function display_loaded() {\n",
       "    const el = document.getElementById(\"d5724454-0e68-4ff3-bbf4-b389f57e3143\");\n",
       "    if (el != null) {\n",
       "      el.textContent = \"BokehJS is loading...\";\n",
       "    }\n",
       "    if (root.Bokeh !== undefined) {\n",
       "      if (el != null) {\n",
       "        el.textContent = \"BokehJS \" + root.Bokeh.version + \" successfully loaded.\";\n",
       "      }\n",
       "    } else if (Date.now() < root._bokeh_timeout) {\n",
       "      setTimeout(display_loaded, 100)\n",
       "    }\n",
       "  }\n",
       "\n",
       "  function run_callbacks() {\n",
       "    try {\n",
       "      root._bokeh_onload_callbacks.forEach(function(callback) {\n",
       "        if (callback != null)\n",
       "          callback();\n",
       "      });\n",
       "    } finally {\n",
       "      delete root._bokeh_onload_callbacks\n",
       "    }\n",
       "    console.debug(\"Bokeh: all callbacks have finished\");\n",
       "  }\n",
       "\n",
       "  function load_libs(css_urls, js_urls, callback) {\n",
       "    if (css_urls == null) css_urls = [];\n",
       "    if (js_urls == null) js_urls = [];\n",
       "\n",
       "    root._bokeh_onload_callbacks.push(callback);\n",
       "    if (root._bokeh_is_loading > 0) {\n",
       "      console.debug(\"Bokeh: BokehJS is being loaded, scheduling callback at\", now());\n",
       "      return null;\n",
       "    }\n",
       "    if (js_urls == null || js_urls.length === 0) {\n",
       "      run_callbacks();\n",
       "      return null;\n",
       "    }\n",
       "    console.debug(\"Bokeh: BokehJS not loaded, scheduling load and callback at\", now());\n",
       "    root._bokeh_is_loading = css_urls.length + js_urls.length;\n",
       "\n",
       "    function on_load() {\n",
       "      root._bokeh_is_loading--;\n",
       "      if (root._bokeh_is_loading === 0) {\n",
       "        console.debug(\"Bokeh: all BokehJS libraries/stylesheets loaded\");\n",
       "        run_callbacks()\n",
       "      }\n",
       "    }\n",
       "\n",
       "    function on_error(url) {\n",
       "      console.error(\"failed to load \" + url);\n",
       "    }\n",
       "\n",
       "    for (let i = 0; i < css_urls.length; i++) {\n",
       "      const url = css_urls[i];\n",
       "      const element = document.createElement(\"link\");\n",
       "      element.onload = on_load;\n",
       "      element.onerror = on_error.bind(null, url);\n",
       "      element.rel = \"stylesheet\";\n",
       "      element.type = \"text/css\";\n",
       "      element.href = url;\n",
       "      console.debug(\"Bokeh: injecting link tag for BokehJS stylesheet: \", url);\n",
       "      document.body.appendChild(element);\n",
       "    }\n",
       "\n",
       "    for (let i = 0; i < js_urls.length; i++) {\n",
       "      const url = js_urls[i];\n",
       "      const element = document.createElement('script');\n",
       "      element.onload = on_load;\n",
       "      element.onerror = on_error.bind(null, url);\n",
       "      element.async = false;\n",
       "      element.src = url;\n",
       "      console.debug(\"Bokeh: injecting script tag for BokehJS library: \", url);\n",
       "      document.head.appendChild(element);\n",
       "    }\n",
       "  };\n",
       "\n",
       "  function inject_raw_css(css) {\n",
       "    const element = document.createElement(\"style\");\n",
       "    element.appendChild(document.createTextNode(css));\n",
       "    document.body.appendChild(element);\n",
       "  }\n",
       "\n",
       "  const js_urls = [\"https://cdn.bokeh.org/bokeh/release/bokeh-3.2.1.min.js\", \"https://cdn.bokeh.org/bokeh/release/bokeh-gl-3.2.1.min.js\", \"https://cdn.bokeh.org/bokeh/release/bokeh-widgets-3.2.1.min.js\", \"https://cdn.bokeh.org/bokeh/release/bokeh-tables-3.2.1.min.js\", \"https://cdn.bokeh.org/bokeh/release/bokeh-mathjax-3.2.1.min.js\"];\n",
       "  const css_urls = [];\n",
       "\n",
       "  const inline_js = [    function(Bokeh) {\n",
       "      Bokeh.set_log_level(\"info\");\n",
       "    },\n",
       "function(Bokeh) {\n",
       "    }\n",
       "  ];\n",
       "\n",
       "  function run_inline_js() {\n",
       "    if (root.Bokeh !== undefined || force === true) {\n",
       "          for (let i = 0; i < inline_js.length; i++) {\n",
       "      inline_js[i].call(root, root.Bokeh);\n",
       "    }\n",
       "if (force === true) {\n",
       "        display_loaded();\n",
       "      }} else if (Date.now() < root._bokeh_timeout) {\n",
       "      setTimeout(run_inline_js, 100);\n",
       "    } else if (!root._bokeh_failed_load) {\n",
       "      console.log(\"Bokeh: BokehJS failed to load within specified timeout.\");\n",
       "      root._bokeh_failed_load = true;\n",
       "    } else if (force !== true) {\n",
       "      const cell = $(document.getElementById(\"d5724454-0e68-4ff3-bbf4-b389f57e3143\")).parents('.cell').data().cell;\n",
       "      cell.output_area.append_execute_result(NB_LOAD_WARNING)\n",
       "    }\n",
       "  }\n",
       "\n",
       "  if (root._bokeh_is_loading === 0) {\n",
       "    console.debug(\"Bokeh: BokehJS loaded, going straight to plotting\");\n",
       "    run_inline_js();\n",
       "  } else {\n",
       "    load_libs(css_urls, js_urls, function() {\n",
       "      console.debug(\"Bokeh: BokehJS plotting callback run at\", now());\n",
       "      run_inline_js();\n",
       "    });\n",
       "  }\n",
       "}(window));"
      ],
      "application/vnd.bokehjs_load.v0+json": "(function(root) {\n  function now() {\n    return new Date();\n  }\n\n  const force = true;\n\n  if (typeof root._bokeh_onload_callbacks === \"undefined\" || force === true) {\n    root._bokeh_onload_callbacks = [];\n    root._bokeh_is_loading = undefined;\n  }\n\n\n  if (typeof (root._bokeh_timeout) === \"undefined\" || force === true) {\n    root._bokeh_timeout = Date.now() + 5000;\n    root._bokeh_failed_load = false;\n  }\n\n  const NB_LOAD_WARNING = {'data': {'text/html':\n     \"<div style='background-color: #fdd'>\\n\"+\n     \"<p>\\n\"+\n     \"BokehJS does not appear to have successfully loaded. If loading BokehJS from CDN, this \\n\"+\n     \"may be due to a slow or bad network connection. Possible fixes:\\n\"+\n     \"</p>\\n\"+\n     \"<ul>\\n\"+\n     \"<li>re-rerun `output_notebook()` to attempt to load from CDN again, or</li>\\n\"+\n     \"<li>use INLINE resources instead, as so:</li>\\n\"+\n     \"</ul>\\n\"+\n     \"<code>\\n\"+\n     \"from bokeh.resources import INLINE\\n\"+\n     \"output_notebook(resources=INLINE)\\n\"+\n     \"</code>\\n\"+\n     \"</div>\"}};\n\n  function display_loaded() {\n    const el = document.getElementById(\"d5724454-0e68-4ff3-bbf4-b389f57e3143\");\n    if (el != null) {\n      el.textContent = \"BokehJS is loading...\";\n    }\n    if (root.Bokeh !== undefined) {\n      if (el != null) {\n        el.textContent = \"BokehJS \" + root.Bokeh.version + \" successfully loaded.\";\n      }\n    } else if (Date.now() < root._bokeh_timeout) {\n      setTimeout(display_loaded, 100)\n    }\n  }\n\n  function run_callbacks() {\n    try {\n      root._bokeh_onload_callbacks.forEach(function(callback) {\n        if (callback != null)\n          callback();\n      });\n    } finally {\n      delete root._bokeh_onload_callbacks\n    }\n    console.debug(\"Bokeh: all callbacks have finished\");\n  }\n\n  function load_libs(css_urls, js_urls, callback) {\n    if (css_urls == null) css_urls = [];\n    if (js_urls == null) js_urls = [];\n\n    root._bokeh_onload_callbacks.push(callback);\n    if (root._bokeh_is_loading > 0) {\n      console.debug(\"Bokeh: BokehJS is being loaded, scheduling callback at\", now());\n      return null;\n    }\n    if (js_urls == null || js_urls.length === 0) {\n      run_callbacks();\n      return null;\n    }\n    console.debug(\"Bokeh: BokehJS not loaded, scheduling load and callback at\", now());\n    root._bokeh_is_loading = css_urls.length + js_urls.length;\n\n    function on_load() {\n      root._bokeh_is_loading--;\n      if (root._bokeh_is_loading === 0) {\n        console.debug(\"Bokeh: all BokehJS libraries/stylesheets loaded\");\n        run_callbacks()\n      }\n    }\n\n    function on_error(url) {\n      console.error(\"failed to load \" + url);\n    }\n\n    for (let i = 0; i < css_urls.length; i++) {\n      const url = css_urls[i];\n      const element = document.createElement(\"link\");\n      element.onload = on_load;\n      element.onerror = on_error.bind(null, url);\n      element.rel = \"stylesheet\";\n      element.type = \"text/css\";\n      element.href = url;\n      console.debug(\"Bokeh: injecting link tag for BokehJS stylesheet: \", url);\n      document.body.appendChild(element);\n    }\n\n    for (let i = 0; i < js_urls.length; i++) {\n      const url = js_urls[i];\n      const element = document.createElement('script');\n      element.onload = on_load;\n      element.onerror = on_error.bind(null, url);\n      element.async = false;\n      element.src = url;\n      console.debug(\"Bokeh: injecting script tag for BokehJS library: \", url);\n      document.head.appendChild(element);\n    }\n  };\n\n  function inject_raw_css(css) {\n    const element = document.createElement(\"style\");\n    element.appendChild(document.createTextNode(css));\n    document.body.appendChild(element);\n  }\n\n  const js_urls = [\"https://cdn.bokeh.org/bokeh/release/bokeh-3.2.1.min.js\", \"https://cdn.bokeh.org/bokeh/release/bokeh-gl-3.2.1.min.js\", \"https://cdn.bokeh.org/bokeh/release/bokeh-widgets-3.2.1.min.js\", \"https://cdn.bokeh.org/bokeh/release/bokeh-tables-3.2.1.min.js\", \"https://cdn.bokeh.org/bokeh/release/bokeh-mathjax-3.2.1.min.js\"];\n  const css_urls = [];\n\n  const inline_js = [    function(Bokeh) {\n      Bokeh.set_log_level(\"info\");\n    },\nfunction(Bokeh) {\n    }\n  ];\n\n  function run_inline_js() {\n    if (root.Bokeh !== undefined || force === true) {\n          for (let i = 0; i < inline_js.length; i++) {\n      inline_js[i].call(root, root.Bokeh);\n    }\nif (force === true) {\n        display_loaded();\n      }} else if (Date.now() < root._bokeh_timeout) {\n      setTimeout(run_inline_js, 100);\n    } else if (!root._bokeh_failed_load) {\n      console.log(\"Bokeh: BokehJS failed to load within specified timeout.\");\n      root._bokeh_failed_load = true;\n    } else if (force !== true) {\n      const cell = $(document.getElementById(\"d5724454-0e68-4ff3-bbf4-b389f57e3143\")).parents('.cell').data().cell;\n      cell.output_area.append_execute_result(NB_LOAD_WARNING)\n    }\n  }\n\n  if (root._bokeh_is_loading === 0) {\n    console.debug(\"Bokeh: BokehJS loaded, going straight to plotting\");\n    run_inline_js();\n  } else {\n    load_libs(css_urls, js_urls, function() {\n      console.debug(\"Bokeh: BokehJS plotting callback run at\", now());\n      run_inline_js();\n    });\n  }\n}(window));"
     },
     "metadata": {},
     "output_type": "display_data"
    }
   ],
   "source": [
    "output_notebook()"
   ]
  },
  {
   "cell_type": "markdown",
   "id": "1d4a1cae-b599-43d6-b6e8-15f0faa1d148",
   "metadata": {},
   "source": [
    "### **Needs to be generalized⬇️**\n",
    "The plotting function depends on these specific parameters, should take list of them as input as well as dictionary mapping them to ouput in model. "
   ]
  },
  {
   "cell_type": "code",
   "execution_count": 35,
   "id": "9b909c9f-8f49-478b-ba4e-1b6691b13e9a",
   "metadata": {},
   "outputs": [
    {
     "data": {
      "text/html": [
       "\n",
       "  <div id=\"cf3eb086-3fac-4694-95dc-937ad5b618c0\" data-root-id=\"p1125\" style=\"display: contents;\"></div>\n"
      ]
     },
     "metadata": {},
     "output_type": "display_data"
    },
    {
     "data": {
      "application/javascript": [
       "(function(root) {\n",
       "  function embed_document(root) {\n",
       "  const docs_json = {\"3eba0c0a-76f3-4956-afee-9112c25abb2b\":{\"version\":\"3.2.1\",\"title\":\"Bokeh Application\",\"roots\":[{\"type\":\"object\",\"name\":\"Figure\",\"id\":\"p1125\",\"attributes\":{\"width\":1000,\"height\":300,\"x_range\":{\"type\":\"object\",\"name\":\"DataRange1d\",\"id\":\"p1126\"},\"y_range\":{\"type\":\"object\",\"name\":\"DataRange1d\",\"id\":\"p1127\"},\"x_scale\":{\"type\":\"object\",\"name\":\"LinearScale\",\"id\":\"p1134\"},\"y_scale\":{\"type\":\"object\",\"name\":\"LogScale\",\"id\":\"p1135\"},\"title\":null,\"renderers\":[{\"type\":\"object\",\"name\":\"GlyphRenderer\",\"id\":\"p1159\",\"attributes\":{\"data_source\":{\"type\":\"object\",\"name\":\"ColumnDataSource\",\"id\":\"p1153\",\"attributes\":{\"selected\":{\"type\":\"object\",\"name\":\"Selection\",\"id\":\"p1154\",\"attributes\":{\"indices\":[],\"line_indices\":[]}},\"selection_policy\":{\"type\":\"object\",\"name\":\"UnionRenderers\",\"id\":\"p1155\"},\"data\":{\"type\":\"map\",\"entries\":[[\"x\",[0,1,2,3,4,5,6,7,8,9,10,11,12,13,14,15,16,17,18,19,20,21,22,23,24,25,26,27,28,29,30,31,32,33,34,35,36,37,38,39,40,41,42,43,44,45,46,47,48,49,50,51,52,53,54,55,56,57,58,59,60,61,62,63,64,65,66,67,68,69,70,71,72,73,74,75,76,77,78,79,80,81,82,83,84,85,86,87,88,89,90,91,92,93,94,95,96,97,98,99,100,101,102,103,104,105,106,107,108,109,110,111,112,113,114,115,116,117,118,119,120,121,122,123,124,125,126,127,128,129,130,131,132,133,134,135,136,137,138,139,140,141,142,143,144,145,146,147,148,149,150,151,152,153,154,155,156,157,158,159,160,161,162,163,164,165,166,167,168,169,170,171,172,173,174,175,176,177,178,179,180,181]],[\"y\",[0.3924212157726288,0.12908029556274414,0.10104604065418243,0.08698179572820663,0.08161918073892593,0.07656500488519669,0.07553569972515106,0.0687611997127533,0.06889653205871582,0.06725646555423737,0.06674278527498245,0.058854252099990845,0.06273932754993439,0.06297006458044052,0.05325190722942352,0.05530630797147751,0.05612236261367798,0.05257534608244896,0.05216127634048462,0.0554717518389225,0.048213571310043335,0.05172830447554588,0.049355775117874146,0.049746885895729065,0.048835497349500656,0.04866354167461395,0.04916123300790787,0.04503929242491722,0.04846007376909256,0.049582161009311676,0.04808829724788666,0.044038351625204086,0.04737818241119385,0.04325185343623161,0.05139823257923126,0.04543941095471382,0.04668452963232994,0.045431990176439285,0.04393584653735161,0.04539420083165169,0.04193967208266258,0.04826094210147858,0.04366665333509445,0.043444134294986725,0.04612644761800766,0.04570872709155083,0.041218701750040054,0.042298078536987305,0.04719012975692749,0.04193640872836113,0.04337655380368233,0.04556126520037651,0.04063401371240616,0.04246807470917702,0.04678906500339508,0.03989548608660698,0.04386793076992035,0.04430698975920677,0.04111397638916969,0.04581970348954201,0.041600633412599564,0.04265715181827545,0.040966764092445374,0.04146500676870346,0.04211819916963577,0.04395231232047081,0.041918445378541946,0.040901023894548416,0.041942987591028214,0.04527302086353302,0.04131277650594711,0.0395011231303215,0.043747685849666595,0.043546151369810104,0.04075715318322182,0.04091719910502434,0.040602948516607285,0.04319729283452034,0.041629284620285034,0.0411294586956501,0.04054579511284828,0.04145311936736107,0.044505879282951355,0.040270570665597916,0.03931404650211334,0.04300830885767937,0.04097743704915047,0.04009431600570679,0.042183008044958115,0.041153907775878906,0.041686493903398514,0.03916771709918976,0.041560228914022446,0.03970770910382271,0.04321593418717384,0.039406485855579376,0.042696788907051086,0.040302906185388565,0.03916782885789871,0.04136290028691292,0.04115677252411842,0.03967312350869179,0.041697096079587936,0.04109610989689827,0.038758669048547745,0.04007560759782791,0.04111510515213013,0.04021179676055908,0.04102950170636177,0.03964800015091896,0.03929537162184715,0.04043089225888252,0.040205176919698715,0.04344566911458969,0.041039761155843735,0.04036767780780792,0.03937401995062828,0.0402861125767231,0.043296054005622864,0.038877375423908234,0.03838799148797989,0.03862738236784935,0.04182099923491478,0.039094243198633194,0.03975042700767517,0.04048823192715645,0.04155668988823891,0.04041195288300514,0.03925710543990135,0.03896627575159073,0.04202788695693016,0.038232751190662384,0.038670614361763,0.04402235895395279,0.038100190460681915,0.039442408829927444,0.040059443563222885,0.04017505422234535,0.042337607592344284,0.038717228919267654,0.038492001593112946,0.03939689323306084,0.03846926987171173,0.038458965718746185,0.04290640354156494,0.04099351912736893,0.03799879550933838,0.040120966732501984,0.04029424116015434,0.038449499756097794,0.03838242217898369,0.040605150163173676,0.045241981744766235,0.03859962522983551,0.03789379447698593,0.03842782974243164,0.04031297564506531,0.0399923101067543,0.0412389375269413,0.042182568460702896,0.038776692003011703,0.040053896605968475,0.03944523259997368,0.03903502598404884,0.03847784921526909,0.03805829584598541,0.03937646374106407,0.04184526950120926,0.038646403700113297,0.03833587095141411,0.04102927818894386,0.04062886908650398,0.043168436735868454,0.03934435918927193,0.03841919079422951,0.037915829569101334,0.04008559510111809,0.03989512845873833,0.03831588849425316,0.03973366692662239,0.03835062310099602,0.038126833736896515]]]}}},\"view\":{\"type\":\"object\",\"name\":\"CDSView\",\"id\":\"p1160\",\"attributes\":{\"filter\":{\"type\":\"object\",\"name\":\"AllIndices\",\"id\":\"p1161\"}}},\"glyph\":{\"type\":\"object\",\"name\":\"Line\",\"id\":\"p1156\",\"attributes\":{\"x\":{\"type\":\"field\",\"field\":\"x\"},\"y\":{\"type\":\"field\",\"field\":\"y\"},\"line_color\":\"#d62728\",\"line_width\":2}},\"nonselection_glyph\":{\"type\":\"object\",\"name\":\"Line\",\"id\":\"p1157\",\"attributes\":{\"x\":{\"type\":\"field\",\"field\":\"x\"},\"y\":{\"type\":\"field\",\"field\":\"y\"},\"line_color\":\"#d62728\",\"line_alpha\":0.1,\"line_width\":2}},\"muted_glyph\":{\"type\":\"object\",\"name\":\"Line\",\"id\":\"p1158\",\"attributes\":{\"x\":{\"type\":\"field\",\"field\":\"x\"},\"y\":{\"type\":\"field\",\"field\":\"y\"},\"line_color\":\"#d62728\",\"line_alpha\":0.2,\"line_width\":2}}}},{\"type\":\"object\",\"name\":\"GlyphRenderer\",\"id\":\"p1170\",\"attributes\":{\"data_source\":{\"type\":\"object\",\"name\":\"ColumnDataSource\",\"id\":\"p1164\",\"attributes\":{\"selected\":{\"type\":\"object\",\"name\":\"Selection\",\"id\":\"p1165\",\"attributes\":{\"indices\":[],\"line_indices\":[]}},\"selection_policy\":{\"type\":\"object\",\"name\":\"UnionRenderers\",\"id\":\"p1166\"},\"data\":{\"type\":\"map\",\"entries\":[[\"x\",[0,1,2,3,4,5,6,7,8,9,10,11,12,13,14,15,16,17,18,19,20,21,22,23,24,25,26,27,28,29,30,31,32,33,34,35,36,37,38,39,40,41,42,43,44,45,46,47,48,49,50,51,52,53,54,55,56,57,58,59,60,61,62,63,64,65,66,67,68,69,70,71,72,73,74,75,76,77,78,79,80,81,82,83,84,85,86,87,88,89,90,91,92,93,94,95,96,97,98,99,100,101,102,103,104,105,106,107,108,109,110,111,112,113,114,115,116,117,118,119,120,121,122,123,124,125,126,127,128,129,130,131,132,133,134,135,136,137,138,139,140,141,142,143,144,145,146,147,148,149,150,151,152,153,154,155,156,157,158,159,160,161,162,163,164,165,166,167,168,169,170,171,172,173,174,175,176,177,178,179,180,181]],[\"y\",[0.15417079627513885,0.1090761050581932,0.08888509124517441,0.07804197072982788,0.07110075652599335,0.0626668781042099,0.07137428969144821,0.06941132247447968,0.06566327810287476,0.05675483122467995,0.06028114631772041,0.054077692329883575,0.0562749020755291,0.0564737431704998,0.05038648471236229,0.07491657882928848,0.05866008251905441,0.051293350756168365,0.0537908636033535,0.047695647925138474,0.04691149666905403,0.05614060163497925,0.046682436019182205,0.05445103347301483,0.044385503977537155,0.044825587421655655,0.051688820123672485,0.04590354859828949,0.058333758264780045,0.044625647366046906,0.04726926237344742,0.05042015016078949,0.04148869961500168,0.04347914084792137,0.04146420583128929,0.05068954452872276,0.043667763471603394,0.04272180050611496,0.05781659856438637,0.04245718568563461,0.042582739144563675,0.05426119267940521,0.042875826358795166,0.04413957521319389,0.041493359953165054,0.04089982062578201,0.040412332862615585,0.04492088034749031,0.043949488550424576,0.04250485077500343,0.05775231122970581,0.039630964398384094,0.04028800129890442,0.042606037110090256,0.04103395715355873,0.041197359561920166,0.04274794086813927,0.04643089324235916,0.04354694113135338,0.04135170951485634,0.0420951209962368,0.052998416125774384,0.041486501693725586,0.04220384359359741,0.04474775865674019,0.04172105714678764,0.03987027332186699,0.04507388547062874,0.04085570201277733,0.04741841182112694,0.04020465165376663,0.03964902460575104,0.04562686011195183,0.04054125398397446,0.0393238440155983,0.039047978818416595,0.04069841280579567,0.03985804691910744,0.03973241522908211,0.042678963392972946,0.03894965350627899,0.03985446318984032,0.04045994579792023,0.0389174222946167,0.0410921573638916,0.03971805050969124,0.03972085192799568,0.0410073958337307,0.04069126769900322,0.040878985077142715,0.03936415910720825,0.039144210517406464,0.04046836122870445,0.04064822569489479,0.041016288101673126,0.03888074681162834,0.04126069322228432,0.03989584371447563,0.03900716081261635,0.08227483183145523,0.03903792053461075,0.03895534947514534,0.0519016794860363,0.03947586938738823,0.03933614492416382,0.04058276116847992,0.041257016360759735,0.041240010410547256,0.03915109857916832,0.03924094885587692,0.041385311633348465,0.047151654958724976,0.03984702751040459,0.04704142361879349,0.03978161886334419,0.04427771270275116,0.03933343291282654,0.04145819693803787,0.04256908595561981,0.03895088657736778,0.04032360389828682,0.03954074904322624,0.040578316897153854,0.038899339735507965,0.04068806394934654,0.039284851402044296,0.043356701731681824,0.0405137874186039,0.039378345012664795,0.04001011326909065,0.03922955319285393,0.03863462433218956,0.04208764806389809,0.039029065519571304,0.038539137691259384,0.04360322654247284,0.03879547119140625,0.03940143063664436,0.04172621667385101,0.04004709795117378,0.039667628705501556,0.03888041526079178,0.03908028453588486,0.03886065632104874,0.04292299970984459,0.03898267820477486,0.038478899747133255,0.03958010673522949,0.03993922844529152,0.039116084575653076,0.04496292024850845,0.04939641058444977,0.03972287476062775,0.038478344678878784,0.039002928882837296,0.03901850804686546,0.041200507432222366,0.03938440978527069,0.039242424070835114,0.04181341081857681,0.038500070571899414,0.038441892713308334,0.039207760244607925,0.040079906582832336,0.0389268733561039,0.04043521359562874,0.04013651981949806,0.038804639130830765,0.03877042979001999,0.04247819259762764,0.0384831465780735,0.041115645319223404,0.04014755040407181,0.03932885080575943,0.03893738240003586,0.038402970880270004,0.04419185221195221,0.038876332342624664,0.03975491225719452,0.04078449308872223,0.038885969668626785,0.03892191872000694]]]}}},\"view\":{\"type\":\"object\",\"name\":\"CDSView\",\"id\":\"p1171\",\"attributes\":{\"filter\":{\"type\":\"object\",\"name\":\"AllIndices\",\"id\":\"p1172\"}}},\"glyph\":{\"type\":\"object\",\"name\":\"Line\",\"id\":\"p1167\",\"attributes\":{\"x\":{\"type\":\"field\",\"field\":\"x\"},\"y\":{\"type\":\"field\",\"field\":\"y\"},\"line_color\":\"#d62728\",\"line_width\":2,\"line_dash\":[2,4]}},\"nonselection_glyph\":{\"type\":\"object\",\"name\":\"Line\",\"id\":\"p1168\",\"attributes\":{\"x\":{\"type\":\"field\",\"field\":\"x\"},\"y\":{\"type\":\"field\",\"field\":\"y\"},\"line_color\":\"#d62728\",\"line_alpha\":0.1,\"line_width\":2,\"line_dash\":[2,4]}},\"muted_glyph\":{\"type\":\"object\",\"name\":\"Line\",\"id\":\"p1169\",\"attributes\":{\"x\":{\"type\":\"field\",\"field\":\"x\"},\"y\":{\"type\":\"field\",\"field\":\"y\"},\"line_color\":\"#d62728\",\"line_alpha\":0.2,\"line_width\":2,\"line_dash\":[2,4]}}}},{\"type\":\"object\",\"name\":\"GlyphRenderer\",\"id\":\"p1179\",\"attributes\":{\"data_source\":{\"type\":\"object\",\"name\":\"ColumnDataSource\",\"id\":\"p1173\",\"attributes\":{\"selected\":{\"type\":\"object\",\"name\":\"Selection\",\"id\":\"p1174\",\"attributes\":{\"indices\":[],\"line_indices\":[]}},\"selection_policy\":{\"type\":\"object\",\"name\":\"UnionRenderers\",\"id\":\"p1175\"},\"data\":{\"type\":\"map\",\"entries\":[[\"x\",[0,1,2,3,4,5,6,7,8,9,10,11,12,13,14,15,16,17,18,19,20,21,22,23,24,25,26,27,28,29,30,31,32,33,34,35,36,37,38,39,40,41,42,43,44,45,46,47,48,49,50,51,52,53,54,55,56,57,58,59,60,61,62,63,64,65,66,67,68,69,70,71,72,73,74,75,76,77,78,79,80,81,82,83,84,85,86,87,88,89,90,91,92,93,94,95,96,97,98,99,100,101,102,103,104,105,106,107,108,109,110,111,112,113,114,115,116,117,118,119,120,121,122,123,124,125,126,127,128,129,130,131,132,133,134,135,136,137,138,139,140,141,142,143,144,145,146,147,148,149,150,151,152,153,154,155,156,157,158,159,160,161,162,163,164,165,166,167,168,169,170,171,172,173,174,175,176,177,178,179,180,181]],[\"y\",[0.1402069330215454,0.035950787365436554,0.024071600288152695,0.018680771812796593,0.01597999967634678,0.013709944672882557,0.014408835209906101,0.010932788252830505,0.011255319230258465,0.009994938038289547,0.010872827842831612,0.007603049743920565,0.00991152785718441,0.009624036028981209,0.005930756218731403,0.006626006681472063,0.007261672522872686,0.005852076690644026,0.0056465729139745235,0.006701033096760511,0.004332507960498333,0.005339065100997686,0.004894526209682226,0.0046202512457966805,0.0049187359400093555,0.0044158389791846275,0.00435391440987587,0.0031451175455003977,0.004702296108007431,0.004507271107286215,0.003985240124166012,0.0025990535505115986,0.0038909423165023327,0.0024474384263157845,0.006194244604557753,0.002987048588693142,0.0033597606234252453,0.0033743700478225946,0.0027675738092511892,0.003373290877789259,0.001973243895918131,0.004138532560318708,0.0025881705805659294,0.002282064873725176,0.0030186183284968138,0.0038807715754956007,0.0018260983051732183,0.0019774220418184996,0.003595181507989764,0.0020438977517187595,0.0022635108325630426,0.0033294623717665672,0.001494081225246191,0.0021787420846521854,0.0035245150793343782,0.0012671307194977999,0.002509823301807046,0.0026684822514653206,0.0016628106823191047,0.00308588775806129,0.0018984507769346237,0.0021342451218515635,0.0015332314651459455,0.0016404199413955212,0.0019395289709791541,0.0030664324294775724,0.0018803165294229984,0.0016917235916480422,0.0019226345466449857,0.003044525161385536,0.0015933334361761808,0.0010762541787698865,0.002497239038348198,0.002497669542208314,0.0013880289625376463,0.001549756620079279,0.0013624060666188598,0.0023809203412383795,0.001769643509760499,0.0016646303702145815,0.0012224745005369186,0.0017284308560192585,0.0026605164166539907,0.0012464228784665465,0.001068003592081368,0.0020074371714144945,0.0016892788698896766,0.0012129010865464807,0.0023349341936409473,0.0015722456155344844,0.0017666686326265335,0.0009054087568074465,0.0016133564058691263,0.001142036053352058,0.0021733809262514114,0.0009768931195139885,0.002170146442949772,0.001333870692178607,0.0008882182301022112,0.0019548723939806223,0.001904839649796486,0.0010118078207597136,0.0018409501062706113,0.0015102352481335402,0.0008061010157689452,0.0012020149733871222,0.0014070370234549046,0.0013331418158486485,0.0015253375750035048,0.0010038112523034215,0.0009630948188714683,0.0013214640785008669,0.0012919866712763906,0.002299586310982704,0.0014706385554745793,0.0010920173954218626,0.000899143167771399,0.00109903106931597,0.002162282820791006,0.0008455868810415268,0.0006665019900538027,0.0008157673291862011,0.001675799721851945,0.0009720777161419392,0.0012266638223081827,0.0013651852495968342,0.0016628977609798312,0.001185040338896215,0.0009152779239229858,0.0008775994065217674,0.0015930868685245514,0.0005765878013335168,0.0008098653634078801,0.0032003845553845167,0.0005792807205580175,0.0008939959807321429,0.0011280387407168746,0.0011558615369722247,0.001917550340294838,0.0007606915314681828,0.0006714271730743349,0.0009898720309138298,0.0006893223617225885,0.0008009500452317297,0.0020856617484241724,0.0014930347679182887,0.0005206365021876991,0.001048294361680746,0.001105407252907753,0.0007235326920635998,0.0006599801126867533,0.001281185308471322,0.002537631895393133,0.0007071917061693966,0.00047449590056203306,0.0006945136119611561,0.0011840888764709234,0.001182524603791535,0.001594400848262012,0.0016426424263045192,0.0007855250732973218,0.0012560479808598757,0.0008337118779309094,0.0007856920710764825,0.0007371783722192049,0.0005461806431412697,0.0010084206005558372,0.0017553839134052396,0.0006930771633051336,0.0005870367749594152,0.0015517628053203225,0.00126842490863055,0.002036062069237232,0.0008846662240102887,0.0005614783149212599,0.00047512046876363456,0.0010394604178145528,0.0011713779531419277,0.0006035498809069395,0.0011257835431024432,0.0006785321165807545,0.00065357651328668]]]}}},\"view\":{\"type\":\"object\",\"name\":\"CDSView\",\"id\":\"p1180\",\"attributes\":{\"filter\":{\"type\":\"object\",\"name\":\"AllIndices\",\"id\":\"p1181\"}}},\"glyph\":{\"type\":\"object\",\"name\":\"Line\",\"id\":\"p1176\",\"attributes\":{\"x\":{\"type\":\"field\",\"field\":\"x\"},\"y\":{\"type\":\"field\",\"field\":\"y\"},\"line_color\":\"#ff7f0e\",\"line_width\":2}},\"nonselection_glyph\":{\"type\":\"object\",\"name\":\"Line\",\"id\":\"p1177\",\"attributes\":{\"x\":{\"type\":\"field\",\"field\":\"x\"},\"y\":{\"type\":\"field\",\"field\":\"y\"},\"line_color\":\"#ff7f0e\",\"line_alpha\":0.1,\"line_width\":2}},\"muted_glyph\":{\"type\":\"object\",\"name\":\"Line\",\"id\":\"p1178\",\"attributes\":{\"x\":{\"type\":\"field\",\"field\":\"x\"},\"y\":{\"type\":\"field\",\"field\":\"y\"},\"line_color\":\"#ff7f0e\",\"line_alpha\":0.2,\"line_width\":2}}}},{\"type\":\"object\",\"name\":\"GlyphRenderer\",\"id\":\"p1189\",\"attributes\":{\"data_source\":{\"type\":\"object\",\"name\":\"ColumnDataSource\",\"id\":\"p1183\",\"attributes\":{\"selected\":{\"type\":\"object\",\"name\":\"Selection\",\"id\":\"p1184\",\"attributes\":{\"indices\":[],\"line_indices\":[]}},\"selection_policy\":{\"type\":\"object\",\"name\":\"UnionRenderers\",\"id\":\"p1185\"},\"data\":{\"type\":\"map\",\"entries\":[[\"x\",[0,1,2,3,4,5,6,7,8,9,10,11,12,13,14,15,16,17,18,19,20,21,22,23,24,25,26,27,28,29,30,31,32,33,34,35,36,37,38,39,40,41,42,43,44,45,46,47,48,49,50,51,52,53,54,55,56,57,58,59,60,61,62,63,64,65,66,67,68,69,70,71,72,73,74,75,76,77,78,79,80,81,82,83,84,85,86,87,88,89,90,91,92,93,94,95,96,97,98,99,100,101,102,103,104,105,106,107,108,109,110,111,112,113,114,115,116,117,118,119,120,121,122,123,124,125,126,127,128,129,130,131,132,133,134,135,136,137,138,139,140,141,142,143,144,145,146,147,148,149,150,151,152,153,154,155,156,157,158,159,160,161,162,163,164,165,166,167,168,169,170,171,172,173,174,175,176,177,178,179,180,181]],[\"y\",[0.04018362611532211,0.025827227160334587,0.01850440911948681,0.01376361958682537,0.012064731679856777,0.00933870393782854,0.008376536890864372,0.012366759590804577,0.01067286729812622,0.007125387899577618,0.010149089619517326,0.0049591027200222015,0.008029013872146606,0.007591813802719116,0.005303606390953064,0.010592106729745865,0.007867989130318165,0.00522730965167284,0.0071093495935201645,0.004301935434341431,0.003835452487692237,0.007776986807584763,0.00316454004496336,0.00809497106820345,0.0026014407631009817,0.0031794593669474125,0.006140715908259153,0.0034873716067522764,0.006092581432312727,0.002638281090185046,0.003750887932255864,0.0034472739789634943,0.002079831901937723,0.002495985710993409,0.0020992602221667767,0.004198333248496056,0.0025153637398034334,0.00197746348567307,0.006928670220077038,0.0022536253090947866,0.0019735153764486313,0.005629369523376226,0.002099347300827503,0.0021875924430787563,0.002484599594026804,0.002232114551588893,0.0014639046275988221,0.003049414837732911,0.0024966690689325333,0.0014843095559626818,0.005515382159501314,0.0013378893490880728,0.0012848025653511286,0.002508109901100397,0.0016780250007286668,0.002314206911250949,0.002335465280339122,0.002552291378378868,0.0018386348383501172,0.0026993113569915295,0.0019766560290008783,0.0036332353483885527,0.0018709603464230895,0.002035115147009492,0.002139992080628872,0.002365948399528861,0.0010762808378785849,0.002834403421729803,0.001758983125910163,0.005287144798785448,0.0015525886556133628,0.0011632598470896482,0.004287918098270893,0.0011040633544325829,0.0010160407982766628,0.0011687814258038998,0.001475840457715094,0.0012835152447223663,0.0011949888430535793,0.0018831510096788406,0.0009398701949976385,0.00121464638505131,0.0013979851501062512,0.0009573707357048988,0.0015954329865053296,0.0013408949598670006,0.0012253926834091544,0.002002859953790903,0.0016445043729618192,0.001618003472685814,0.001144220819696784,0.0010706280590966344,0.0014856299385428429,0.0016609663143754005,0.001358658540993929,0.0007695424719713628,0.0018489137291908264,0.001268903142772615,0.0008583944290876389,0.01857117936015129,0.0008176866103895009,0.0009738465887494385,0.003992687910795212,0.0009752876358106732,0.0010903251823037863,0.0016971626318991184,0.00156411062926054,0.0013203932903707027,0.0014588992344215512,0.0010239988332614303,0.0013328371569514275,0.002637219848111272,0.0013145440025255084,0.004013094585388899,0.0013608539011329412,0.002020473126322031,0.0011386577971279621,0.0019270392367616296,0.0025783900637179613,0.0009119102614931762,0.0009557086159475148,0.0012186109088361263,0.0016082895454019308,0.000867963710334152,0.001767587848007679,0.0009438751148991287,0.0024491003714501858,0.001327643753029406,0.001077315304428339,0.0010836678557097912,0.0008813939639367163,0.0007834582938812673,0.002143334597349167,0.0009921274613589048,0.0007115146145224571,0.0018637962639331818,0.0008392391609959304,0.0009711238089948893,0.0015517802676185966,0.0011227010982111096,0.0009227977134287357,0.000678241194691509,0.0009399353875778615,0.0008719390025362372,0.002011304022744298,0.0008023179834708571,0.0005503465654328465,0.0007653784123249352,0.0012225605314597487,0.0007595273200422525,0.0018120236927643418,0.003108733333647251,0.0011441056849434972,0.0005930736078880727,0.0008067673770710826,0.0008089530165307224,0.0015119429444894195,0.0008617460262030363,0.0010181639809161425,0.0013932347064837813,0.0006353475037030876,0.0006361724226735532,0.000900997081771493,0.0011760559864342213,0.000667452928610146,0.001438436913304031,0.0014200146542862058,0.0007718310807831585,0.0006126455846242607,0.0017752785934135318,0.0005982377333566546,0.0014292357955127954,0.0010761683806777,0.0008391279843635857,0.0007070110295899212,0.0005955949309282005,0.002316900063306093,0.0007042805664241314,0.0008114443626254797,0.0014529051259160042,0.0007255719974637032,0.0008066690061241388]]]}}},\"view\":{\"type\":\"object\",\"name\":\"CDSView\",\"id\":\"p1190\",\"attributes\":{\"filter\":{\"type\":\"object\",\"name\":\"AllIndices\",\"id\":\"p1191\"}}},\"glyph\":{\"type\":\"object\",\"name\":\"Line\",\"id\":\"p1186\",\"attributes\":{\"x\":{\"type\":\"field\",\"field\":\"x\"},\"y\":{\"type\":\"field\",\"field\":\"y\"},\"line_color\":\"#ff7f0e\",\"line_width\":2,\"line_dash\":[2,4]}},\"nonselection_glyph\":{\"type\":\"object\",\"name\":\"Line\",\"id\":\"p1187\",\"attributes\":{\"x\":{\"type\":\"field\",\"field\":\"x\"},\"y\":{\"type\":\"field\",\"field\":\"y\"},\"line_color\":\"#ff7f0e\",\"line_alpha\":0.1,\"line_width\":2,\"line_dash\":[2,4]}},\"muted_glyph\":{\"type\":\"object\",\"name\":\"Line\",\"id\":\"p1188\",\"attributes\":{\"x\":{\"type\":\"field\",\"field\":\"x\"},\"y\":{\"type\":\"field\",\"field\":\"y\"},\"line_color\":\"#ff7f0e\",\"line_alpha\":0.2,\"line_width\":2,\"line_dash\":[2,4]}}}},{\"type\":\"object\",\"name\":\"GlyphRenderer\",\"id\":\"p1198\",\"attributes\":{\"data_source\":{\"type\":\"object\",\"name\":\"ColumnDataSource\",\"id\":\"p1192\",\"attributes\":{\"selected\":{\"type\":\"object\",\"name\":\"Selection\",\"id\":\"p1193\",\"attributes\":{\"indices\":[],\"line_indices\":[]}},\"selection_policy\":{\"type\":\"object\",\"name\":\"UnionRenderers\",\"id\":\"p1194\"},\"data\":{\"type\":\"map\",\"entries\":[[\"x\",[0,1,2,3,4,5,6,7,8,9,10,11,12,13,14,15,16,17,18,19,20,21,22,23,24,25,26,27,28,29,30,31,32,33,34,35,36,37,38,39,40,41,42,43,44,45,46,47,48,49,50,51,52,53,54,55,56,57,58,59,60,61,62,63,64,65,66,67,68,69,70,71,72,73,74,75,76,77,78,79,80,81,82,83,84,85,86,87,88,89,90,91,92,93,94,95,96,97,98,99,100,101,102,103,104,105,106,107,108,109,110,111,112,113,114,115,116,117,118,119,120,121,122,123,124,125,126,127,128,129,130,131,132,133,134,135,136,137,138,139,140,141,142,143,144,145,146,147,148,149,150,151,152,153,154,155,156,157,158,159,160,161,162,163,164,165,166,167,168,169,170,171,172,173,174,175,176,177,178,179,180,181]],[\"y\",[0.09873025119304657,0.025401053950190544,0.020209534093737602,0.01606663502752781,0.015131939202547073,0.015039816498756409,0.013998250477015972,0.0124586820602417,0.012405972927808762,0.012306081131100655,0.011157789267599583,0.010047171264886856,0.010015982203185558,0.01049590390175581,0.008046247065067291,0.009043016470968723,0.008587304502725601,0.0077943354845047,0.007837329991161823,0.00860647764056921,0.007012345362454653,0.007923545315861702,0.006967158522456884,0.007416640408337116,0.006968664936721325,0.00661103893071413,0.007169893477112055,0.006421486847102642,0.006989884655922651,0.006945841945707798,0.006770038977265358,0.005982141010463238,0.00680260406807065,0.005942958872765303,0.006783654913306236,0.006466097664088011,0.006292672362178564,0.006055780686438084,0.006052420940250158,0.00609664898365736,0.005477644968777895,0.00665066996589303,0.005532346200197935,0.006181239150464535,0.007892967201769352,0.005835105199366808,0.005043225362896919,0.00598536804318428,0.006734316702932119,0.004972071852535009,0.006105098407715559,0.006324717774987221,0.005185848101973534,0.005991246085613966,0.00704312976449728,0.004749801009893417,0.005663997959345579,0.005728650838136673,0.005452170968055725,0.006998296361416578,0.005012394394725561,0.005249796900898218,0.005233281757682562,0.005860855802893639,0.0060352361761033535,0.006068872753530741,0.005161071661859751,0.00503497151657939,0.00550569174811244,0.00600385433062911,0.0057404846884310246,0.004792650230228901,0.005626671481877565,0.005230906885117292,0.005396905355155468,0.00514607410877943,0.0054994006641209126,0.005643114913254976,0.005204112268984318,0.00525432825088501,0.005638204049319029,0.00450076162815094,0.006464302074164152,0.004579608794301748,0.004688429180532694,0.006737413350492716,0.00472251744940877,0.005209810566157103,0.005035562440752983,0.005446350201964378,0.005313495174050331,0.004842644557356834,0.006087568122893572,0.004786316771060228,0.006011289544403553,0.0049038236029446125,0.0058532957918941975,0.005015990696847439,0.004855657462030649,0.004977670963853598,0.005082485731691122,0.005190317984670401,0.005183347035199404,0.005528503563255072,0.004618323873728514,0.005359714850783348,0.005795725155621767,0.005178780760616064,0.005383270792663097,0.005224220454692841,0.0049407584592700005,0.00554960872977972,0.005029052495956421,0.0054370444267988205,0.004897617734968662,0.005718682426959276,0.00508577236905694,0.005603559780865908,0.005318684969097376,0.004623782820999622,0.0044854553416371346,0.00441256258636713,0.006330542266368866,0.004575207829475403,0.004878530278801918,0.005552320741117001,0.005394752137362957,0.005217925179749727,0.0048478939570486546,0.004724569618701935,0.006438020151108503,0.004474153742194176,0.004659691825509071,0.005305015482008457,0.004393183626234531,0.0051736426539719105,0.005354205146431923,0.005543055944144726,0.005066842772066593,0.004423821810632944,0.0046272436156868935,0.004984318744391203,0.004591579083353281,0.004405986983329058,0.006068253889679909,0.004956064745783806,0.004295649006962776,0.0056023746728897095,0.005763032007962465,0.004487336613237858,0.004556901752948761,0.0056509957648813725,0.005430237855762243,0.004440234042704105,0.004385837819427252,0.0044521186500787735,0.005578909534960985,0.005086550489068031,0.004929471295326948,0.005544336047023535,0.004516832064837217,0.0046727401204407215,0.005244086962193251,0.004999347031116486,0.004538848530501127,0.004441055469214916,0.004897888284176588,0.005795961245894432,0.004803180694580078,0.004464442376047373,0.004848269745707512,0.005419325549155474,0.00561962416395545,0.004958020988851786,0.0047813523560762405,0.0043974369764328,0.0056276279501616955,0.005329074338078499,0.004605038091540337,0.005086523946374655,0.004517497960478067,0.004432326182723045]]]}}},\"view\":{\"type\":\"object\",\"name\":\"CDSView\",\"id\":\"p1199\",\"attributes\":{\"filter\":{\"type\":\"object\",\"name\":\"AllIndices\",\"id\":\"p1200\"}}},\"glyph\":{\"type\":\"object\",\"name\":\"Line\",\"id\":\"p1195\",\"attributes\":{\"x\":{\"type\":\"field\",\"field\":\"x\"},\"y\":{\"type\":\"field\",\"field\":\"y\"},\"line_color\":\"#2ca02c\",\"line_width\":2}},\"nonselection_glyph\":{\"type\":\"object\",\"name\":\"Line\",\"id\":\"p1196\",\"attributes\":{\"x\":{\"type\":\"field\",\"field\":\"x\"},\"y\":{\"type\":\"field\",\"field\":\"y\"},\"line_color\":\"#2ca02c\",\"line_alpha\":0.1,\"line_width\":2}},\"muted_glyph\":{\"type\":\"object\",\"name\":\"Line\",\"id\":\"p1197\",\"attributes\":{\"x\":{\"type\":\"field\",\"field\":\"x\"},\"y\":{\"type\":\"field\",\"field\":\"y\"},\"line_color\":\"#2ca02c\",\"line_alpha\":0.2,\"line_width\":2}}}},{\"type\":\"object\",\"name\":\"GlyphRenderer\",\"id\":\"p1208\",\"attributes\":{\"data_source\":{\"type\":\"object\",\"name\":\"ColumnDataSource\",\"id\":\"p1202\",\"attributes\":{\"selected\":{\"type\":\"object\",\"name\":\"Selection\",\"id\":\"p1203\",\"attributes\":{\"indices\":[],\"line_indices\":[]}},\"selection_policy\":{\"type\":\"object\",\"name\":\"UnionRenderers\",\"id\":\"p1204\"},\"data\":{\"type\":\"map\",\"entries\":[[\"x\",[0,1,2,3,4,5,6,7,8,9,10,11,12,13,14,15,16,17,18,19,20,21,22,23,24,25,26,27,28,29,30,31,32,33,34,35,36,37,38,39,40,41,42,43,44,45,46,47,48,49,50,51,52,53,54,55,56,57,58,59,60,61,62,63,64,65,66,67,68,69,70,71,72,73,74,75,76,77,78,79,80,81,82,83,84,85,86,87,88,89,90,91,92,93,94,95,96,97,98,99,100,101,102,103,104,105,106,107,108,109,110,111,112,113,114,115,116,117,118,119,120,121,122,123,124,125,126,127,128,129,130,131,132,133,134,135,136,137,138,139,140,141,142,143,144,145,146,147,148,149,150,151,152,153,154,155,156,157,158,159,160,161,162,163,164,165,166,167,168,169,170,171,172,173,174,175,176,177,178,179,180,181]],[\"y\",[0.03274894878268242,0.02417406253516674,0.016565579921007156,0.01532977819442749,0.012729221023619175,0.011215068399906158,0.013562939129769802,0.010433334857225418,0.01190860290080309,0.010099777020514011,0.008771104738116264,0.010680546052753925,0.00819153618067503,0.007570997346192598,0.007714869920164347,0.00918405968695879,0.008018986321985722,0.007645689882338047,0.009273266419768333,0.0067878118716180325,0.006723104044795036,0.007234819699078798,0.007502697873860598,0.008151590824127197,0.005316348746418953,0.0057192896492779255,0.007421608082950115,0.007351959124207497,0.011344017460942268,0.006595181301236153,0.007852381095290184,0.008000409230589867,0.005105271935462952,0.005686703138053417,0.004988078959286213,0.007053902838379145,0.006080227438360453,0.005377347581088543,0.008882775902748108,0.005080947652459145,0.0058304620906710625,0.008378780446946621,0.006689310539513826,0.007521067280322313,0.005055647809058428,0.004802125971764326,0.005330254323780537,0.006406213156878948,0.0050600566901266575,0.005417137872427702,0.007803613785654306,0.004669255577027798,0.00506294472143054,0.0053319078870117664,0.0050172703340649605,0.004796955268830061,0.005223815329372883,0.00906234048306942,0.007650271989405155,0.004585295915603638,0.006165634840726852,0.00502942455932498,0.005644588265568018,0.0059876153245568275,0.008474908769130707,0.004834415391087532,0.004760414361953735,0.005061079282313585,0.0050912536680698395,0.004947848618030548,0.005318734794855118,0.00456091295927763,0.005229303613305092,0.005456878803670406,0.004607824143022299,0.004548259545117617,0.004760470241308212,0.004647516179829836,0.0044563403353095055,0.006936157122254372,0.004467494785785675,0.004507211968302727,0.004873580764979124,0.004549690987914801,0.0056058987975120544,0.004575050435960293,0.00452649500221014,0.0050899311900138855,0.00460259523242712,0.0053054457530379295,0.0044175502844154835,0.00476650707423687,0.005147857125848532,0.00481444550678134,0.00587461469694972,0.004506170749664307,0.005358861759305,0.004887501709163189,0.004495410714298487,0.0067110746167600155,0.004749068524688482,0.004587292205542326,0.01116578932851553,0.00470318365842104,0.004524185787886381,0.00480125704780221,0.005845744162797928,0.006045899353921413,0.004477177280932665,0.004575645551085472,0.006510278210043907,0.009465615265071392,0.004453324247151613,0.004783138632774353,0.004870414733886719,0.008294020779430866,0.00465884804725647,0.005182767286896706,0.00545225664973259,0.004596401937305927,0.005770851392298937,0.0045117284171283245,0.004998799413442612,0.004406080115586519,0.005045955069363117,0.004881888162344694,0.006394976284354925,0.005624215584248304,0.004637727979570627,0.004898298531770706,0.004742493852972984,0.004490579012781382,0.004784072283655405,0.004733065143227577,0.004409635905176401,0.006739592179656029,0.004417282063513994,0.005087114870548248,0.004941614344716072,0.00512987095862627,0.004563602618873119,0.004641688894480467,0.0044538406655192375,0.004462204873561859,0.00440158462151885,0.004365892615169287,0.004391863010823727,0.005308123771101236,0.004875013139098883,0.0046338876709342,0.00899728573858738,0.008310160599648952,0.004364248365163803,0.004413418471813202,0.004442270845174789,0.004488131497055292,0.005185435526072979,0.004748967941850424,0.004393193870782852,0.006435183808207512,0.004542351700365543,0.004331088624894619,0.004672194831073284,0.005116713233292103,0.004313953686505556,0.0054357461631298065,0.004567790310829878,0.004496976267546415,0.0045181396417319775,0.0043210661970078945,0.004346199333667755,0.005209081806242466,0.005283297039568424,0.0047915312461555,0.004485528916120529,0.0043394374661147594,0.0070180571638047695,0.004545888863503933,0.005031282547861338,0.004499414004385471,0.0044029164128005505,0.004409464541822672]]]}}},\"view\":{\"type\":\"object\",\"name\":\"CDSView\",\"id\":\"p1209\",\"attributes\":{\"filter\":{\"type\":\"object\",\"name\":\"AllIndices\",\"id\":\"p1210\"}}},\"glyph\":{\"type\":\"object\",\"name\":\"Line\",\"id\":\"p1205\",\"attributes\":{\"x\":{\"type\":\"field\",\"field\":\"x\"},\"y\":{\"type\":\"field\",\"field\":\"y\"},\"line_color\":\"#2ca02c\",\"line_width\":2,\"line_dash\":[2,4]}},\"nonselection_glyph\":{\"type\":\"object\",\"name\":\"Line\",\"id\":\"p1206\",\"attributes\":{\"x\":{\"type\":\"field\",\"field\":\"x\"},\"y\":{\"type\":\"field\",\"field\":\"y\"},\"line_color\":\"#2ca02c\",\"line_alpha\":0.1,\"line_width\":2,\"line_dash\":[2,4]}},\"muted_glyph\":{\"type\":\"object\",\"name\":\"Line\",\"id\":\"p1207\",\"attributes\":{\"x\":{\"type\":\"field\",\"field\":\"x\"},\"y\":{\"type\":\"field\",\"field\":\"y\"},\"line_color\":\"#2ca02c\",\"line_alpha\":0.2,\"line_width\":2,\"line_dash\":[2,4]}}}},{\"type\":\"object\",\"name\":\"GlyphRenderer\",\"id\":\"p1217\",\"attributes\":{\"data_source\":{\"type\":\"object\",\"name\":\"ColumnDataSource\",\"id\":\"p1211\",\"attributes\":{\"selected\":{\"type\":\"object\",\"name\":\"Selection\",\"id\":\"p1212\",\"attributes\":{\"indices\":[],\"line_indices\":[]}},\"selection_policy\":{\"type\":\"object\",\"name\":\"UnionRenderers\",\"id\":\"p1213\"},\"data\":{\"type\":\"map\",\"entries\":[[\"x\",[0,1,2,3,4,5,6,7,8,9,10,11,12,13,14,15,16,17,18,19,20,21,22,23,24,25,26,27,28,29,30,31,32,33,34,35,36,37,38,39,40,41,42,43,44,45,46,47,48,49,50,51,52,53,54,55,56,57,58,59,60,61,62,63,64,65,66,67,68,69,70,71,72,73,74,75,76,77,78,79,80,81,82,83,84,85,86,87,88,89,90,91,92,93,94,95,96,97,98,99,100,101,102,103,104,105,106,107,108,109,110,111,112,113,114,115,116,117,118,119,120,121,122,123,124,125,126,127,128,129,130,131,132,133,134,135,136,137,138,139,140,141,142,143,144,145,146,147,148,149,150,151,152,153,154,155,156,157,158,159,160,161,162,163,164,165,166,167,168,169,170,171,172,173,174,175,176,177,178,179,180,181]],[\"y\",[0.12706130743026733,0.0618458017706871,0.052391499280929565,0.048549920320510864,0.04694248363375664,0.04450548067688942,0.04410481080412865,0.0428716279566288,0.04236070439219475,0.04247922822833061,0.042178455740213394,0.0393354557454586,0.040769051760435104,0.04072987288236618,0.03780389949679375,0.03814655914902687,0.038622528314590454,0.03766823559999466,0.037411727011203766,0.03860064595937729,0.03587845340371132,0.03725624829530716,0.03644410893321037,0.03665626794099808,0.035890787839889526,0.036585934460163116,0.03665930777788162,0.03474938124418259,0.03576354309916496,0.03712330386042595,0.03647797182202339,0.03480006009340286,0.03575713187456131,0.03419945016503334,0.03735511377453804,0.03529120236635208,0.03625566139817238,0.03526235744357109,0.03445958346128464,0.03511393442749977,0.0339667871594429,0.03655720502138138,0.03494412451982498,0.034341223537921906,0.03440689668059349,0.03521599993109703,0.033861856907606125,0.03378449007868767,0.03607865050435066,0.034440457820892334,0.034425824880599976,0.03518613800406456,0.03351735323667526,0.03372117877006531,0.035437580198049545,0.033511821180582047,0.03513055667281151,0.03527846559882164,0.03352637588977814,0.035001058131456375,0.034220363944768906,0.034762751311063766,0.03378017991781235,0.03346513956785202,0.03358961641788483,0.03412646800279617,0.0344061553478241,0.033766478300094604,0.03400886431336403,0.03557013347744942,0.03349925950169563,0.033278923481702805,0.035038452595472336,0.03532467409968376,0.03351278603076935,0.033803291618824005,0.03332279622554779,0.03457973524928093,0.034215256571769714,0.03377661481499672,0.033262159675359726,0.03480438143014908,0.034738682210445404,0.03408079594373703,0.03324272483587265,0.03368712589144707,0.03414062783122063,0.03330722078680992,0.03428387641906738,0.03369041904807091,0.0341394767165184,0.03309085592627525,0.03338613733649254,0.0334240086376667,0.0345134437084198,0.03317081928253174,0.034115422517061234,0.03355779871344566,0.033099833875894547,0.03400822728872299,0.033679280430078506,0.03313387185335159,0.03419529274106026,0.03362412005662918,0.0330481193959713,0.03312445431947708,0.033463045954704285,0.03330042213201523,0.033694181591272354,0.033070411533117294,0.033074427396059036,0.033174239099025726,0.0334608294069767,0.03515925630927086,0.03429977223277092,0.03318797051906586,0.0330650694668293,0.03312709182500839,0.03533414378762245,0.03310105577111244,0.0329735204577446,0.03310738131403923,0.03332288935780525,0.03321459889411926,0.033301111310720444,0.03317795693874359,0.034099265933036804,0.033641912043094635,0.03314013406634331,0.033060602843761444,0.033540647476911545,0.0329442173242569,0.032924238592386246,0.034883979707956314,0.03287418186664581,0.033075593411922455,0.03317338228225708,0.03309495374560356,0.03492376580834389,0.03326478227972984,0.032916903495788574,0.03305986896157265,0.032920192927122116,0.03298501297831535,0.03423899784684181,0.03417615592479706,0.0329473614692688,0.03310146927833557,0.03301224112510681,0.032961927354335785,0.032915689051151276,0.03325764462351799,0.036683905869722366,0.03318345174193382,0.032812222838401794,0.03301092982292175,0.0331793949007988,0.0333697572350502,0.034311745315790176,0.03457702323794365,0.033200111240148544,0.03380352631211281,0.03302358463406563,0.03294895589351654,0.03292841091752052,0.032826706767082214,0.03311172127723694,0.033832963556051254,0.03288199380040169,0.03305983170866966,0.03424003720283508,0.0335998460650444,0.035058923065662384,0.033186882734298706,0.03281175345182419,0.03281734883785248,0.03307807818055153,0.03301655873656273,0.03284955397248268,0.03318529203534126,0.03290131315588951,0.03280738368630409]]]}}},\"view\":{\"type\":\"object\",\"name\":\"CDSView\",\"id\":\"p1218\",\"attributes\":{\"filter\":{\"type\":\"object\",\"name\":\"AllIndices\",\"id\":\"p1219\"}}},\"glyph\":{\"type\":\"object\",\"name\":\"Line\",\"id\":\"p1214\",\"attributes\":{\"x\":{\"type\":\"field\",\"field\":\"x\"},\"y\":{\"type\":\"field\",\"field\":\"y\"},\"line_color\":\"#9467bd\",\"line_width\":2}},\"nonselection_glyph\":{\"type\":\"object\",\"name\":\"Line\",\"id\":\"p1215\",\"attributes\":{\"x\":{\"type\":\"field\",\"field\":\"x\"},\"y\":{\"type\":\"field\",\"field\":\"y\"},\"line_color\":\"#9467bd\",\"line_alpha\":0.1,\"line_width\":2}},\"muted_glyph\":{\"type\":\"object\",\"name\":\"Line\",\"id\":\"p1216\",\"attributes\":{\"x\":{\"type\":\"field\",\"field\":\"x\"},\"y\":{\"type\":\"field\",\"field\":\"y\"},\"line_color\":\"#9467bd\",\"line_alpha\":0.2,\"line_width\":2}}}},{\"type\":\"object\",\"name\":\"GlyphRenderer\",\"id\":\"p1227\",\"attributes\":{\"data_source\":{\"type\":\"object\",\"name\":\"ColumnDataSource\",\"id\":\"p1221\",\"attributes\":{\"selected\":{\"type\":\"object\",\"name\":\"Selection\",\"id\":\"p1222\",\"attributes\":{\"indices\":[],\"line_indices\":[]}},\"selection_policy\":{\"type\":\"object\",\"name\":\"UnionRenderers\",\"id\":\"p1223\"},\"data\":{\"type\":\"map\",\"entries\":[[\"x\",[0,1,2,3,4,5,6,7,8,9,10,11,12,13,14,15,16,17,18,19,20,21,22,23,24,25,26,27,28,29,30,31,32,33,34,35,36,37,38,39,40,41,42,43,44,45,46,47,48,49,50,51,52,53,54,55,56,57,58,59,60,61,62,63,64,65,66,67,68,69,70,71,72,73,74,75,76,77,78,79,80,81,82,83,84,85,86,87,88,89,90,91,92,93,94,95,96,97,98,99,100,101,102,103,104,105,106,107,108,109,110,111,112,113,114,115,116,117,118,119,120,121,122,123,124,125,126,127,128,129,130,131,132,133,134,135,136,137,138,139,140,141,142,143,144,145,146,147,148,149,150,151,152,153,154,155,156,157,158,159,160,161,162,163,164,165,166,167,168,169,170,171,172,173,174,175,176,177,178,179,180,181]],[\"y\",[0.06957302242517471,0.05588890612125397,0.050535649061203,0.0466933436691761,0.043329935520887375,0.04050244390964508,0.04641836881637573,0.041525013744831085,0.040967248380184174,0.03793948516249657,0.03883729502558708,0.03705461695790291,0.03840654343366623,0.040144894272089005,0.03656020015478134,0.05317069962620735,0.0415693037211895,0.037126850336790085,0.0364246666431427,0.035878147929906845,0.03514644876122475,0.03967456892132759,0.03532124683260918,0.03686327114701271,0.03567706421017647,0.0351792648434639,0.03683973476290703,0.03430914878845215,0.03921584039926529,0.03474770858883858,0.03465360775589943,0.038029253482818604,0.03385655954480171,0.03471666947007179,0.03396379202604294,0.03819732367992401,0.03427010402083397,0.03484923765063286,0.04067503660917282,0.034682054072618484,0.03420671075582504,0.0394572839140892,0.0336768738925457,0.0338151678442955,0.033570293337106705,0.03343311697244644,0.03330167010426521,0.03466043993830681,0.03593676909804344,0.034609582275152206,0.04366190731525421,0.03331253305077553,0.033541642129421234,0.034245170652866364,0.033640891313552856,0.03357965499162674,0.034621622413396835,0.03415315970778465,0.033578451722860336,0.03363921865820885,0.03340199217200279,0.04371201619505882,0.03342791274189949,0.03367496654391289,0.03366503491997719,0.03395075723528862,0.033764973282814026,0.03681372478604317,0.03348848223686218,0.03670436516404152,0.032994356006383896,0.033665113151073456,0.035652562975883484,0.03362949937582016,0.03327865153551102,0.03304888680577278,0.034134186804294586,0.03343244642019272,0.0337473563849926,0.03340354189276695,0.03328198567032814,0.033781107515096664,0.03379622846841812,0.0331585519015789,0.03338230401277542,0.03346554934978485,0.03372480347752571,0.033554382622241974,0.0341750904917717,0.03350759670138359,0.033483993262052536,0.03306212276220322,0.03348790854215622,0.03373844921588898,0.03347744047641754,0.03332658112049103,0.03357318043708801,0.03345640003681183,0.033411525189876556,0.05508716031908989,0.03319937735795975,0.03312665969133377,0.03590983524918556,0.033501531928777695,0.03344786539673805,0.033564671874046326,0.03342800959944725,0.0334000401198864,0.03300151228904724,0.033357903361320496,0.0330333448946476,0.03439630568027496,0.0338430218398571,0.037473466247320175,0.033315639942884445,0.03350358456373215,0.033123813569545746,0.03392458334565163,0.03404071554541588,0.033179137855768204,0.033209726214408875,0.033526305109262466,0.033583760261535645,0.03338426351547241,0.033463552594184875,0.03325582668185234,0.034100424498319626,0.03318522125482559,0.033434752374887466,0.03370711952447891,0.03328853100538254,0.0331253819167614,0.03484398499131203,0.03303823247551918,0.03322260081768036,0.034548744559288025,0.03321700915694237,0.0330025888979435,0.034919459372758865,0.03349531069397926,0.03382902964949608,0.033270299434661865,0.03340495377779007,0.03330279886722565,0.036100905388593674,0.03359333425760269,0.03331984207034111,0.03323936089873314,0.03347203880548477,0.03349252790212631,0.03371364623308182,0.03706277906894684,0.03395890071988106,0.03324320912361145,0.03355443477630615,0.033524077385663986,0.033949077129364014,0.03357278183102608,0.03356903791427612,0.033588707447052,0.03314964100718498,0.03328279033303261,0.0333612784743309,0.033335741609334946,0.0337601974606514,0.033330634236335754,0.03372487798333168,0.0333232544362545,0.033420536667108536,0.0360763780772686,0.0332900807261467,0.03402143344283104,0.033433813601732254,0.033443205058574677,0.03346953168511391,0.03325684368610382,0.034118302166461945,0.03342360258102417,0.03367924317717552,0.03450446575880051,0.033523302525281906,0.03350716084241867]]]}}},\"view\":{\"type\":\"object\",\"name\":\"CDSView\",\"id\":\"p1228\",\"attributes\":{\"filter\":{\"type\":\"object\",\"name\":\"AllIndices\",\"id\":\"p1229\"}}},\"glyph\":{\"type\":\"object\",\"name\":\"Line\",\"id\":\"p1224\",\"attributes\":{\"x\":{\"type\":\"field\",\"field\":\"x\"},\"y\":{\"type\":\"field\",\"field\":\"y\"},\"line_color\":\"#9467bd\",\"line_width\":2,\"line_dash\":[2,4]}},\"nonselection_glyph\":{\"type\":\"object\",\"name\":\"Line\",\"id\":\"p1225\",\"attributes\":{\"x\":{\"type\":\"field\",\"field\":\"x\"},\"y\":{\"type\":\"field\",\"field\":\"y\"},\"line_color\":\"#9467bd\",\"line_alpha\":0.1,\"line_width\":2,\"line_dash\":[2,4]}},\"muted_glyph\":{\"type\":\"object\",\"name\":\"Line\",\"id\":\"p1226\",\"attributes\":{\"x\":{\"type\":\"field\",\"field\":\"x\"},\"y\":{\"type\":\"field\",\"field\":\"y\"},\"line_color\":\"#9467bd\",\"line_alpha\":0.2,\"line_width\":2,\"line_dash\":[2,4]}}}},{\"type\":\"object\",\"name\":\"GlyphRenderer\",\"id\":\"p1236\",\"attributes\":{\"data_source\":{\"type\":\"object\",\"name\":\"ColumnDataSource\",\"id\":\"p1230\",\"attributes\":{\"selected\":{\"type\":\"object\",\"name\":\"Selection\",\"id\":\"p1231\",\"attributes\":{\"indices\":[],\"line_indices\":[]}},\"selection_policy\":{\"type\":\"object\",\"name\":\"UnionRenderers\",\"id\":\"p1232\"},\"data\":{\"type\":\"map\",\"entries\":[[\"x\",[0,1,2,3,4,5,6,7,8,9,10,11,12,13,14,15,16,17,18,19,20,21,22,23,24,25,26,27,28,29,30,31,32,33,34,35,36,37,38,39,40,41,42,43,44,45,46,47,48,49,50,51,52,53,54,55,56,57,58,59,60,61,62,63,64,65,66,67,68,69,70,71,72,73,74,75,76,77,78,79,80,81,82,83,84,85,86,87,88,89,90,91,92,93,94,95,96,97,98,99,100,101,102,103,104,105,106,107,108,109,110,111,112,113,114,115,116,117,118,119,120,121,122,123,124,125,126,127,128,129,130,131,132,133,134,135,136,137,138,139,140,141,142,143,144,145,146,147,148,149,150,151,152,153,154,155,156,157,158,159,160,161,162,163,164,165,166,167,168,169,170,171,172,173,174,175,176,177,178,179,180,181]],[\"y\",[0.026422565802931786,0.005882750730961561,0.004373354837298393,0.003684474853798747,0.0035646685864776373,0.0033097926061600447,0.003023834666237235,0.0024980753660202026,0.0028745068702846766,0.002476257272064686,0.002533735241740942,0.0018685514805838466,0.002042706124484539,0.0021202783100306988,0.0014709990937262774,0.001490707159973681,0.0016509152483195066,0.0012607419630512595,0.001265630591660738,0.0015636259922757745,0.0009902669116854668,0.001209463458508253,0.0010499551426619291,0.0010537171037867665,0.0010573141044005752,0.0010507314000278711,0.0009781228145584464,0.0007233020151033998,0.0010043357033282518,0.0010057564359158278,0.0008550405618734658,0.0006571065750904381,0.0009274841868318617,0.0006620038184337318,0.0010652648052200675,0.0006950611714273691,0.0007764205802232027,0.0007394961430691183,0.0006562627386301756,0.000810291909147054,0.0005220125312916934,0.0009145801886916161,0.0006020314176566899,0.0006396021926775575,0.0008079251274466515,0.0007768270443193614,0.00048748927656561136,0.0005508139729499817,0.0007819666061550379,0.00047996360808610916,0.000582113687414676,0.0007209608447737992,0.0004367734072729945,0.000576907186768949,0.0007838570163585246,0.0003667000273708254,0.0005635698325932026,0.0006313732592388988,0.0004726220795419067,0.0007344431360252202,0.00046941242180764675,0.000510321173351258,0.0004201047122478485,0.0004985940176993608,0.0005538524710573256,0.0006905507179908454,0.00047094651381485164,0.0004078632337041199,0.0005057794624008238,0.0006544868228957057,0.0004796716384589672,0.00035328397643752396,0.0005853035254403949,0.0004929248825646937,0.0004594361234921962,0.00041807600064203143,0.0004183559212833643,0.0005935385706834495,0.00044027037802152336,0.0004338808066677302,0.00042295968160033226,0.00041954629705287516,0.0006423642043955624,0.0003637727058958262,0.0003148975083604455,0.0005763588706031442,0.00042501420830376446,0.0003643696545623243,0.0005286267842166126,0.0004448761756066233,0.00046686941641382873,0.0003287888248451054,0.00047319012810476124,0.00035534013295546174,0.0005178111023269594,0.00035498602665029466,0.0005579802091233432,0.0003952528059016913,0.00032413084409199655,0.00042214166023768485,0.0004901597276329994,0.00033708999399095774,0.000477507128380239,0.00043327960884198546,0.0002861249668058008,0.0003894155379384756,0.0004492652660701424,0.00039944876334629953,0.00042671270784921944,0.0003495484997984022,0.0003170906566083431,0.00038556684739887714,0.00042331303120590746,0.0005498134414665401,0.00037172072916291654,0.00036900979466736317,0.00032402871875092387,0.00045641459291800857,0.0004809222591575235,0.00030693941516801715,0.0002625080232974142,0.0002916475059464574,0.0004917850019410253,0.00033238937612622976,0.00034406548365950584,0.0003927923389710486,0.00039978217682801187,0.00036710454151034355,0.0003537970478646457,0.00030349232838489115,0.0004561379028018564,0.00023780074843671173,0.0002768636040855199,0.0006329679163172841,0.0002535718085709959,0.0002991603687405586,0.00040378575795330107,0.00038118631346151233,0.0004294360987842083,0.0002679226454347372,0.00027641988708637655,0.0003628158010542393,0.0002681767218746245,0.00026704376796260476,0.0005134640377946198,0.00036830006865784526,0.00023515352222602814,0.0003688266733661294,0.0004135801864322275,0.000276693346677348,0.00024984695482999086,0.0004153411427978426,0.0005901590920984745,0.00026875571347773075,0.00022121393703855574,0.0002702664351090789,0.00037057697772979736,0.000353505602106452,0.0004033084842376411,0.0004185864527244121,0.000274250574875623,0.0003216160403098911,0.00034386274637654424,0.0003010385553352535,0.00027339719235897064,0.00024435861269012094,0.00035840479540638626,0.00046095074503682554,0.0002681318437680602,0.00022457953309640288,0.00038921035593375564,0.00034127323306165636,0.0004538115463219583,0.00031478411983698606,0.00026461383095011115,0.00022595059999730438,0.00034043536288663745,0.0003781581181101501,0.00025777588598430157,0.0003360630653332919,0.0002532519574742764,0.00023355361190624535]]]}}},\"view\":{\"type\":\"object\",\"name\":\"CDSView\",\"id\":\"p1237\",\"attributes\":{\"filter\":{\"type\":\"object\",\"name\":\"AllIndices\",\"id\":\"p1238\"}}},\"glyph\":{\"type\":\"object\",\"name\":\"Line\",\"id\":\"p1233\",\"attributes\":{\"x\":{\"type\":\"field\",\"field\":\"x\"},\"y\":{\"type\":\"field\",\"field\":\"y\"},\"line_color\":\"#8c564b\",\"line_width\":2}},\"nonselection_glyph\":{\"type\":\"object\",\"name\":\"Line\",\"id\":\"p1234\",\"attributes\":{\"x\":{\"type\":\"field\",\"field\":\"x\"},\"y\":{\"type\":\"field\",\"field\":\"y\"},\"line_color\":\"#8c564b\",\"line_alpha\":0.1,\"line_width\":2}},\"muted_glyph\":{\"type\":\"object\",\"name\":\"Line\",\"id\":\"p1235\",\"attributes\":{\"x\":{\"type\":\"field\",\"field\":\"x\"},\"y\":{\"type\":\"field\",\"field\":\"y\"},\"line_color\":\"#8c564b\",\"line_alpha\":0.2,\"line_width\":2}}}},{\"type\":\"object\",\"name\":\"GlyphRenderer\",\"id\":\"p1246\",\"attributes\":{\"data_source\":{\"type\":\"object\",\"name\":\"ColumnDataSource\",\"id\":\"p1240\",\"attributes\":{\"selected\":{\"type\":\"object\",\"name\":\"Selection\",\"id\":\"p1241\",\"attributes\":{\"indices\":[],\"line_indices\":[]}},\"selection_policy\":{\"type\":\"object\",\"name\":\"UnionRenderers\",\"id\":\"p1242\"},\"data\":{\"type\":\"map\",\"entries\":[[\"x\",[0,1,2,3,4,5,6,7,8,9,10,11,12,13,14,15,16,17,18,19,20,21,22,23,24,25,26,27,28,29,30,31,32,33,34,35,36,37,38,39,40,41,42,43,44,45,46,47,48,49,50,51,52,53,54,55,56,57,58,59,60,61,62,63,64,65,66,67,68,69,70,71,72,73,74,75,76,77,78,79,80,81,82,83,84,85,86,87,88,89,90,91,92,93,94,95,96,97,98,99,100,101,102,103,104,105,106,107,108,109,110,111,112,113,114,115,116,117,118,119,120,121,122,123,124,125,126,127,128,129,130,131,132,133,134,135,136,137,138,139,140,141,142,143,144,145,146,147,148,149,150,151,152,153,154,155,156,157,158,159,160,161,162,163,164,165,166,167,168,169,170,171,172,173,174,175,176,177,178,179,180,181]],[\"y\",[0.011665201745927334,0.00318591739051044,0.003279459895566106,0.0022552162408828735,0.0029768634121865034,0.0016106530092656612,0.003016443457454443,0.005086218006908894,0.002114566508680582,0.0015901693841442466,0.002523686969652772,0.001383425435051322,0.0016478130128234625,0.001166038098745048,0.0008078094106167555,0.001969713717699051,0.0012038045097142458,0.0012935062404721975,0.0009835829259827733,0.0007277526310645044,0.001206480897963047,0.0014542280696332455,0.0006939615705050528,0.0013412130065262318,0.0007906491518951952,0.0007475721649825573,0.001286754966713488,0.0007550761220045388,0.0016813346883282065,0.0006444653845392168,0.0010123803513124585,0.0009432268561795354,0.0004470326821319759,0.0005797747289761901,0.0004130695015192032,0.0012400024570524693,0.0008020683890208602,0.0005177629645913839,0.001330109778791666,0.00044055652688257396,0.0005720455083064735,0.0007957489578984678,0.0004102813545614481,0.000615747063420713,0.00038281717570498586,0.0004324598703533411,0.0003165096277371049,0.0008048033341765404,0.0004560009983833879,0.0009938213042914867,0.000771421764511615,0.0003112841513939202,0.0003986161027569324,0.0005208453512750566,0.00069779297336936,0.0005065405857749283,0.0005670418031513691,0.0006630908465012908,0.0004795838613063097,0.00042787898564711213,0.0005508409230969846,0.0006237265770323575,0.0005430567543953657,0.0005061357514932752,0.0004678201221395284,0.0005699382745660841,0.000268607895122841,0.0003646759723778814,0.0005169796058908105,0.0004790550156030804,0.0003389577614143491,0.0002597349521238357,0.0004570811870507896,0.00035081617534160614,0.0004213257634546608,0.00028205354465171695,0.0003279078227933496,0.0004945558030158281,0.00033373033511452377,0.00045609899098053575,0.00026030445587821305,0.00035150768235325813,0.0003921549650840461,0.0002518006367608905,0.0005085254088044167,0.0003365525626577437,0.00024415849475190043,0.0003602264041546732,0.00026906546554528177,0.0004479266644921154,0.00031840309384278953,0.00024496641708537936,0.00034697228693403304,0.0004343619802966714,0.0003055807901546359,0.0002784500829875469,0.00047972772154025733,0.0002830367302522063,0.00024182762717828155,0.0019054195145145059,0.0002717945317272097,0.00026754714781418443,0.0008333615260198712,0.00029585949960164726,0.0002737859613262117,0.0005196722922846675,0.0004191363404970616,0.0004736818082164973,0.00021351946634240448,0.00028340035350993276,0.0005088631296530366,0.0006525126518681645,0.0002361314691370353,0.0007717172265984118,0.00023470610904041678,0.00045963868615217507,0.00041211393545381725,0.00042380596278235316,0.0004977181670255959,0.0002634385018609464,0.0003873010282404721,0.00028411144739948213,0.0003874758549500257,0.00024103290343191475,0.0004109690198674798,0.00020324200158938766,0.000412199879065156,0.00037671541213057935,0.00022854034614283592,0.000321016414090991,0.0003171307034790516,0.00023519386013504118,0.00031625633710063994,0.0002656437864061445,0.00019538293418008834,0.0004511009028647095,0.00032195134554058313,0.0003406100731808692,0.0003133639693260193,0.00029922998510301113,0.00035218530683778226,0.0002902029373217374,0.00028156235930509865,0.00022371241357177496,0.0004092064336873591,0.00022114551393315196,0.00021685627871192992,0.0002672332338988781,0.0003696318017318845,0.00023014526232145727,0.00043995396117679775,0.0009147347300313413,0.0002556111430749297,0.00022864717175252736,0.0001994682679651305,0.00019734758825507015,0.0005540507263503969,0.00020091752230655402,0.00026204015011899173,0.0003962772898375988,0.00017273159755859524,0.00019183287804480642,0.0002732962602749467,0.0004514021857175976,0.000185257667908445,0.00023039689403958619,0.0004238236288074404,0.00021258000924717635,0.0002191126550314948,0.00030547805363312364,0.0002486291341483593,0.0004558874643407762,0.00035426649264991283,0.0002549807250034064,0.00027530855732038617,0.00021110517263878137,0.0007385901408270001,0.00020256471179891378,0.00023295896244235337,0.00032770514371804893,0.0002341772778891027,0.00019862780754920095]]]}}},\"view\":{\"type\":\"object\",\"name\":\"CDSView\",\"id\":\"p1247\",\"attributes\":{\"filter\":{\"type\":\"object\",\"name\":\"AllIndices\",\"id\":\"p1248\"}}},\"glyph\":{\"type\":\"object\",\"name\":\"Line\",\"id\":\"p1243\",\"attributes\":{\"x\":{\"type\":\"field\",\"field\":\"x\"},\"y\":{\"type\":\"field\",\"field\":\"y\"},\"line_color\":\"#8c564b\",\"line_width\":2,\"line_dash\":[2,4]}},\"nonselection_glyph\":{\"type\":\"object\",\"name\":\"Line\",\"id\":\"p1244\",\"attributes\":{\"x\":{\"type\":\"field\",\"field\":\"x\"},\"y\":{\"type\":\"field\",\"field\":\"y\"},\"line_color\":\"#8c564b\",\"line_alpha\":0.1,\"line_width\":2,\"line_dash\":[2,4]}},\"muted_glyph\":{\"type\":\"object\",\"name\":\"Line\",\"id\":\"p1245\",\"attributes\":{\"x\":{\"type\":\"field\",\"field\":\"x\"},\"y\":{\"type\":\"field\",\"field\":\"y\"},\"line_color\":\"#8c564b\",\"line_alpha\":0.2,\"line_width\":2,\"line_dash\":[2,4]}}}}],\"toolbar\":{\"type\":\"object\",\"name\":\"Toolbar\",\"id\":\"p1133\",\"attributes\":{\"tools\":[{\"type\":\"object\",\"name\":\"PanTool\",\"id\":\"p1146\"},{\"type\":\"object\",\"name\":\"WheelZoomTool\",\"id\":\"p1147\"},{\"type\":\"object\",\"name\":\"BoxZoomTool\",\"id\":\"p1148\",\"attributes\":{\"overlay\":{\"type\":\"object\",\"name\":\"BoxAnnotation\",\"id\":\"p1149\",\"attributes\":{\"syncable\":false,\"level\":\"overlay\",\"visible\":false,\"left_units\":\"canvas\",\"right_units\":\"canvas\",\"bottom_units\":\"canvas\",\"top_units\":\"canvas\",\"line_color\":\"black\",\"line_alpha\":1.0,\"line_width\":2,\"line_dash\":[4,4],\"fill_color\":\"lightgrey\",\"fill_alpha\":0.5}}}},{\"type\":\"object\",\"name\":\"SaveTool\",\"id\":\"p1150\"},{\"type\":\"object\",\"name\":\"ResetTool\",\"id\":\"p1151\"},{\"type\":\"object\",\"name\":\"HelpTool\",\"id\":\"p1152\"}]}},\"left\":[{\"type\":\"object\",\"name\":\"LogAxis\",\"id\":\"p1141\",\"attributes\":{\"ticker\":{\"type\":\"object\",\"name\":\"LogTicker\",\"id\":\"p1142\",\"attributes\":{\"num_minor_ticks\":10,\"mantissas\":[1,5]}},\"formatter\":{\"type\":\"object\",\"name\":\"LogTickFormatter\",\"id\":\"p1143\"},\"axis_label\":\"Loss\",\"axis_label_text_font_size\":\"12pt\",\"major_label_policy\":{\"type\":\"object\",\"name\":\"AllLabels\",\"id\":\"p1144\"},\"major_label_text_font_size\":\"12pt\"}}],\"below\":[{\"type\":\"object\",\"name\":\"LinearAxis\",\"id\":\"p1136\",\"attributes\":{\"ticker\":{\"type\":\"object\",\"name\":\"BasicTicker\",\"id\":\"p1137\",\"attributes\":{\"mantissas\":[1,2,5]}},\"formatter\":{\"type\":\"object\",\"name\":\"BasicTickFormatter\",\"id\":\"p1138\"},\"axis_label\":\"Epochs\",\"axis_label_text_font_size\":\"12pt\",\"major_label_policy\":{\"type\":\"object\",\"name\":\"AllLabels\",\"id\":\"p1139\"},\"major_label_text_font_size\":\"12pt\"}}],\"center\":[{\"type\":\"object\",\"name\":\"Grid\",\"id\":\"p1140\",\"attributes\":{\"axis\":{\"id\":\"p1136\"}}},{\"type\":\"object\",\"name\":\"Grid\",\"id\":\"p1145\",\"attributes\":{\"dimension\":1,\"axis\":{\"id\":\"p1141\"}}},{\"type\":\"object\",\"name\":\"Legend\",\"id\":\"p1162\",\"attributes\":{\"location\":\"bottom_left\",\"background_fill_color\":\"white\",\"background_fill_alpha\":0.5,\"items\":[{\"type\":\"object\",\"name\":\"LegendItem\",\"id\":\"p1163\",\"attributes\":{\"label\":{\"type\":\"value\",\"value\":\"Total loss\"},\"renderers\":[{\"id\":\"p1159\"}]}},{\"type\":\"object\",\"name\":\"LegendItem\",\"id\":\"p1182\",\"attributes\":{\"label\":{\"type\":\"value\",\"value\":\"gravity\"},\"renderers\":[{\"id\":\"p1179\"}]}},{\"type\":\"object\",\"name\":\"LegendItem\",\"id\":\"p1201\",\"attributes\":{\"label\":{\"type\":\"value\",\"value\":\"c_o_ratio\"},\"renderers\":[{\"id\":\"p1198\"}]}},{\"type\":\"object\",\"name\":\"LegendItem\",\"id\":\"p1220\",\"attributes\":{\"label\":{\"type\":\"value\",\"value\":\"metallicity\"},\"renderers\":[{\"id\":\"p1217\"}]}},{\"type\":\"object\",\"name\":\"LegendItem\",\"id\":\"p1239\",\"attributes\":{\"label\":{\"type\":\"value\",\"value\":\"temperature\"},\"renderers\":[{\"id\":\"p1236\"}]}}]}}]}}]}};\n",
       "  const render_items = [{\"docid\":\"3eba0c0a-76f3-4956-afee-9112c25abb2b\",\"roots\":{\"p1125\":\"cf3eb086-3fac-4694-95dc-937ad5b618c0\"},\"root_ids\":[\"p1125\"]}];\n",
       "  root.Bokeh.embed.embed_items_notebook(docs_json, render_items);\n",
       "  }\n",
       "  if (root.Bokeh !== undefined) {\n",
       "    embed_document(root);\n",
       "  } else {\n",
       "    let attempts = 0;\n",
       "    const timer = setInterval(function(root) {\n",
       "      if (root.Bokeh !== undefined) {\n",
       "        clearInterval(timer);\n",
       "        embed_document(root);\n",
       "      } else {\n",
       "        attempts++;\n",
       "        if (attempts > 100) {\n",
       "          clearInterval(timer);\n",
       "          console.log(\"Bokeh: ERROR: Unable to run BokehJS code because BokehJS library is missing\");\n",
       "        }\n",
       "      }\n",
       "    }, 10, root)\n",
       "  }\n",
       "})(window);"
      ],
      "application/vnd.bokehjs_exec.v0+json": ""
     },
     "metadata": {
      "application/vnd.bokehjs_exec.v0+json": {
       "id": "p1125"
      }
     },
     "output_type": "display_data"
    }
   ],
   "source": [
    "plot_ML_model_loss_bokeh(trained_ML_model_history=history.history)"
   ]
  }
 ],
 "metadata": {
  "kernelspec": {
   "display_name": "Python 3 (ipykernel)",
   "language": "python",
   "name": "python3"
  },
  "language_info": {
   "codemirror_mode": {
    "name": "ipython",
    "version": 3
   },
   "file_extension": ".py",
   "mimetype": "text/x-python",
   "name": "python",
   "nbconvert_exporter": "python",
   "pygments_lexer": "ipython3",
   "version": "3.9.16"
  }
 },
 "nbformat": 4,
 "nbformat_minor": 5
}
