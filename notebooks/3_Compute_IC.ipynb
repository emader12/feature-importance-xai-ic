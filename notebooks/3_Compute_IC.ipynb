{
 "cells": [
  {
   "cell_type": "code",
   "execution_count": 1,
   "id": "5c168e98-9ca8-45d0-bc86-fd4d688d47c1",
   "metadata": {},
   "outputs": [],
   "source": [
    "import numpy as np\n",
    "import pandas as pd\n",
    "from astropy.nddata import NDDataArray,StdDevUncertainty\n",
    "import astropy.units as u\n",
    "import matplotlib.pyplot as plt\n",
    "from scipy.interpolate import interp1d\n",
    "import importlib\n",
    "\n",
    "import sys\n",
    "sys.path.append(\"../\")\n",
    "from src.JacobianVisualizer import *\n",
    "from src.JacobianComputer import compute_jacobian"
   ]
  },
  {
   "cell_type": "markdown",
   "id": "6dc388ca-7fea-4ed3-b49c-f90e3be95164",
   "metadata": {},
   "source": [
    "# Information Content"
   ]
  },
  {
   "cell_type": "markdown",
   "id": "d39594e2-fb51-40d6-a43f-afce36df014f",
   "metadata": {},
   "source": [
    "## **1. Load Spectral Grid**"
   ]
  },
  {
   "cell_type": "code",
   "execution_count": 2,
   "id": "cf9cbbc3-962c-46f4-b636-10ffeaec722e",
   "metadata": {},
   "outputs": [],
   "source": [
    "# Load or create reference data path\n",
    "__dataset_path__ = os.getenv(\"TelescopeML_reference_data\")\n",
    "__folder__ = \"training_datasets\"\n",
    "\n",
    "# DataFrame with cols grid points then spectra\n",
    "__dataset_file__ = \"browndwarf_R100_v4_newWL_v3.csv.bz2\"\n",
    "dataset = pd.read_csv(os.path.join(__dataset_path__,__folder__,__dataset_file__), compression='bz2')\n",
    "\n",
    "# Wavelength grid of model\n",
    "__wavelength_file__ = \"wl.csv\"\n",
    "wl = pd.read_csv(os.path.join(__dataset_path__,__folder__,__wavelength_file__)).to_numpy().squeeze()"
   ]
  },
  {
   "cell_type": "markdown",
   "id": "76b592da-5991-426a-bc09-c0c6c53a3bb2",
   "metadata": {},
   "source": [
    "## **2. Compute Jacobian Matrix**"
   ]
  },
  {
   "cell_type": "markdown",
   "id": "3ecb2d41-45c5-471e-98a3-af23995f583b",
   "metadata": {},
   "source": [
    "Compute estimated partial derivatives to fill each cell of the Jacobian matrix. The dataset should be structured as follows: "
   ]
  },
  {
   "cell_type": "markdown",
   "id": "2773c13a-4da9-4f8d-8b54-e7d6b5ba99aa",
   "metadata": {},
   "source": [
    "| Param 1     | Param 2     | Param 3     | ... | λ₁         | λ₂         | λ₃         | ... | λₙ         |\n",
    "|-------------|-------------|-------------|-----|-------------|-------------|-------------|-----|-------------|\n",
    "| value₁₁     | value₁₂     | value₁₃     | ... | flux₁₁      | flux₁₂      | flux₁₃      | ... | flux₁ₙ      |\n",
    "| value₂₁     | value₂₂     | value₂₃     | ... | flux₂₁      | flux₂₂      | flux₂₃      | ... | flux₂ₙ      |\n",
    "| ...         | ...         | ...         | ... | ...         | ...         | ...         | ... | ...         |\n",
    "\n"
   ]
  },
  {
   "cell_type": "markdown",
   "id": "df99e7f7-8102-4c75-99eb-9266fcabe688",
   "metadata": {},
   "source": [
    "## **✅Generalizable: compute_jacobian**\n",
    "This function can ingest any param grid given good except needs exactly 4 parameters, could easily manually make a few options for 3,4,5 parameters. "
   ]
  },
  {
   "cell_type": "code",
   "execution_count": 3,
   "id": "d4d066ce-1df7-44d7-a03c-d64fb69af5ba",
   "metadata": {},
   "outputs": [
    {
     "ename": "KeyboardInterrupt",
     "evalue": "",
     "output_type": "error",
     "traceback": [
      "\u001b[0;31m---------------------------------------------------------------------------\u001b[0m",
      "\u001b[0;31mKeyboardInterrupt\u001b[0m                         Traceback (most recent call last)",
      "Cell \u001b[0;32mIn[3], line 1\u001b[0m\n\u001b[0;32m----> 1\u001b[0m temperature_jacobian \u001b[38;5;241m=\u001b[39m \u001b[43mcompute_jacobian\u001b[49m\u001b[43m(\u001b[49m\u001b[43mdataset\u001b[49m\u001b[43m,\u001b[49m\n\u001b[1;32m      2\u001b[0m \u001b[43m                                        \u001b[49m\u001b[43mwl\u001b[49m\u001b[43m,\u001b[49m\u001b[43m \u001b[49m\n\u001b[1;32m      3\u001b[0m \u001b[43m                                        \u001b[49m\u001b[43mwrt\u001b[49m\u001b[43m \u001b[49m\u001b[38;5;241;43m=\u001b[39;49m\u001b[43m \u001b[49m\u001b[38;5;124;43m'\u001b[39;49m\u001b[38;5;124;43mtemperature\u001b[39;49m\u001b[38;5;124;43m'\u001b[39;49m\u001b[43m,\u001b[49m\n\u001b[1;32m      4\u001b[0m \u001b[43m                                        \u001b[49m\u001b[43msave_path\u001b[49m\u001b[43m \u001b[49m\u001b[38;5;241;43m=\u001b[39;49m\u001b[43m \u001b[49m\u001b[38;5;124;43m'\u001b[39;49m\u001b[38;5;124;43mjacobians\u001b[39;49m\u001b[38;5;124;43m'\u001b[39;49m\n\u001b[1;32m      5\u001b[0m \u001b[43m                                       \u001b[49m\u001b[43m)\u001b[49m\n",
      "File \u001b[0;32m~/XAI_project/feature-importance-xai-ic/notebooks/../src/JacobianComputer.py:79\u001b[0m, in \u001b[0;36mcompute_jacobian\u001b[0;34m(dataset, wl, wrt, parameters, __save__, save_path)\u001b[0m\n\u001b[1;32m     76\u001b[0m                 P1 \u001b[38;5;241m=\u001b[39m df_sub\u001b[38;5;241m.\u001b[39miloc[ind\u001b[38;5;241m+\u001b[39m\u001b[38;5;241m1\u001b[39m][wrt]\n\u001b[1;32m     77\u001b[0m                 P2 \u001b[38;5;241m=\u001b[39m df_sub\u001b[38;5;241m.\u001b[39miloc[ind\u001b[38;5;241m-\u001b[39m\u001b[38;5;241m1\u001b[39m][wrt]\n\u001b[0;32m---> 79\u001b[0m                 dfdP \u001b[38;5;241m=\u001b[39m \u001b[43m(\u001b[49m\u001b[43mflux1\u001b[49m\u001b[43m \u001b[49m\u001b[38;5;241;43m-\u001b[39;49m\u001b[43m \u001b[49m\u001b[43mflux2\u001b[49m\u001b[43m)\u001b[49m\u001b[43m \u001b[49m\u001b[38;5;241;43m/\u001b[39;49m\u001b[43m \u001b[49m\u001b[43m(\u001b[49m\u001b[43mP1\u001b[49m\u001b[43m \u001b[49m\u001b[38;5;241;43m-\u001b[39;49m\u001b[43m \u001b[49m\u001b[43mP2\u001b[49m\u001b[43m)\u001b[49m\n\u001b[1;32m     81\u001b[0m                 jacob_matrix[ind\u001b[38;5;241m-\u001b[39m\u001b[38;5;241m1\u001b[39m, id_p1, id_p2, id_p3, :] \u001b[38;5;241m=\u001b[39m dfdP\n\u001b[1;32m     83\u001b[0m \u001b[38;5;66;03m# reshape matrix to standard teff x g x co x mh x lam order\u001b[39;00m\n",
      "File \u001b[0;32m/opt/anaconda3/envs/TelescopeML/lib/python3.9/site-packages/pandas/core/ops/common.py:81\u001b[0m, in \u001b[0;36m_unpack_zerodim_and_defer.<locals>.new_method\u001b[0;34m(self, other)\u001b[0m\n\u001b[1;32m     77\u001b[0m             \u001b[38;5;28;01mreturn\u001b[39;00m \u001b[38;5;28mNotImplemented\u001b[39m\n\u001b[1;32m     79\u001b[0m other \u001b[38;5;241m=\u001b[39m item_from_zerodim(other)\n\u001b[0;32m---> 81\u001b[0m \u001b[38;5;28;01mreturn\u001b[39;00m \u001b[43mmethod\u001b[49m\u001b[43m(\u001b[49m\u001b[38;5;28;43mself\u001b[39;49m\u001b[43m,\u001b[49m\u001b[43m \u001b[49m\u001b[43mother\u001b[49m\u001b[43m)\u001b[49m\n",
      "File \u001b[0;32m/opt/anaconda3/envs/TelescopeML/lib/python3.9/site-packages/pandas/core/arraylike.py:210\u001b[0m, in \u001b[0;36mOpsMixin.__truediv__\u001b[0;34m(self, other)\u001b[0m\n\u001b[1;32m    208\u001b[0m \u001b[38;5;129m@unpack_zerodim_and_defer\u001b[39m(\u001b[38;5;124m\"\u001b[39m\u001b[38;5;124m__truediv__\u001b[39m\u001b[38;5;124m\"\u001b[39m)\n\u001b[1;32m    209\u001b[0m \u001b[38;5;28;01mdef\u001b[39;00m\u001b[38;5;250m \u001b[39m\u001b[38;5;21m__truediv__\u001b[39m(\u001b[38;5;28mself\u001b[39m, other):\n\u001b[0;32m--> 210\u001b[0m     \u001b[38;5;28;01mreturn\u001b[39;00m \u001b[38;5;28;43mself\u001b[39;49m\u001b[38;5;241;43m.\u001b[39;49m\u001b[43m_arith_method\u001b[49m\u001b[43m(\u001b[49m\u001b[43mother\u001b[49m\u001b[43m,\u001b[49m\u001b[43m \u001b[49m\u001b[43moperator\u001b[49m\u001b[38;5;241;43m.\u001b[39;49m\u001b[43mtruediv\u001b[49m\u001b[43m)\u001b[49m\n",
      "File \u001b[0;32m/opt/anaconda3/envs/TelescopeML/lib/python3.9/site-packages/pandas/core/series.py:6112\u001b[0m, in \u001b[0;36mSeries._arith_method\u001b[0;34m(self, other, op)\u001b[0m\n\u001b[1;32m   6110\u001b[0m \u001b[38;5;28;01mdef\u001b[39;00m\u001b[38;5;250m \u001b[39m\u001b[38;5;21m_arith_method\u001b[39m(\u001b[38;5;28mself\u001b[39m, other, op):\n\u001b[1;32m   6111\u001b[0m     \u001b[38;5;28mself\u001b[39m, other \u001b[38;5;241m=\u001b[39m ops\u001b[38;5;241m.\u001b[39malign_method_SERIES(\u001b[38;5;28mself\u001b[39m, other)\n\u001b[0;32m-> 6112\u001b[0m     \u001b[38;5;28;01mreturn\u001b[39;00m \u001b[43mbase\u001b[49m\u001b[38;5;241;43m.\u001b[39;49m\u001b[43mIndexOpsMixin\u001b[49m\u001b[38;5;241;43m.\u001b[39;49m\u001b[43m_arith_method\u001b[49m\u001b[43m(\u001b[49m\u001b[38;5;28;43mself\u001b[39;49m\u001b[43m,\u001b[49m\u001b[43m \u001b[49m\u001b[43mother\u001b[49m\u001b[43m,\u001b[49m\u001b[43m \u001b[49m\u001b[43mop\u001b[49m\u001b[43m)\u001b[49m\n",
      "File \u001b[0;32m/opt/anaconda3/envs/TelescopeML/lib/python3.9/site-packages/pandas/core/base.py:1343\u001b[0m, in \u001b[0;36mIndexOpsMixin._arith_method\u001b[0;34m(self, other, op)\u001b[0m\n\u001b[1;32m   1340\u001b[0m res_name \u001b[38;5;241m=\u001b[39m ops\u001b[38;5;241m.\u001b[39mget_op_result_name(\u001b[38;5;28mself\u001b[39m, other)\n\u001b[1;32m   1342\u001b[0m lvalues \u001b[38;5;241m=\u001b[39m \u001b[38;5;28mself\u001b[39m\u001b[38;5;241m.\u001b[39m_values\n\u001b[0;32m-> 1343\u001b[0m rvalues \u001b[38;5;241m=\u001b[39m \u001b[43mextract_array\u001b[49m\u001b[43m(\u001b[49m\u001b[43mother\u001b[49m\u001b[43m,\u001b[49m\u001b[43m \u001b[49m\u001b[43mextract_numpy\u001b[49m\u001b[38;5;241;43m=\u001b[39;49m\u001b[38;5;28;43;01mTrue\u001b[39;49;00m\u001b[43m,\u001b[49m\u001b[43m \u001b[49m\u001b[43mextract_range\u001b[49m\u001b[38;5;241;43m=\u001b[39;49m\u001b[38;5;28;43;01mTrue\u001b[39;49;00m\u001b[43m)\u001b[49m\n\u001b[1;32m   1344\u001b[0m rvalues \u001b[38;5;241m=\u001b[39m ops\u001b[38;5;241m.\u001b[39mmaybe_prepare_scalar_for_op(rvalues, lvalues\u001b[38;5;241m.\u001b[39mshape)\n\u001b[1;32m   1345\u001b[0m rvalues \u001b[38;5;241m=\u001b[39m ensure_wrapped_if_datetimelike(rvalues)\n",
      "File \u001b[0;32m/opt/anaconda3/envs/TelescopeML/lib/python3.9/site-packages/pandas/core/construction.py:441\u001b[0m, in \u001b[0;36mextract_array\u001b[0;34m(obj, extract_numpy, extract_range)\u001b[0m\n\u001b[1;32m    396\u001b[0m \u001b[38;5;28;01mdef\u001b[39;00m\u001b[38;5;250m \u001b[39m\u001b[38;5;21mextract_array\u001b[39m(\n\u001b[1;32m    397\u001b[0m     obj: T, extract_numpy: \u001b[38;5;28mbool\u001b[39m \u001b[38;5;241m=\u001b[39m \u001b[38;5;28;01mFalse\u001b[39;00m, extract_range: \u001b[38;5;28mbool\u001b[39m \u001b[38;5;241m=\u001b[39m \u001b[38;5;28;01mFalse\u001b[39;00m\n\u001b[1;32m    398\u001b[0m ) \u001b[38;5;241m-\u001b[39m\u001b[38;5;241m>\u001b[39m T \u001b[38;5;241m|\u001b[39m ArrayLike:\n\u001b[1;32m    399\u001b[0m \u001b[38;5;250m    \u001b[39m\u001b[38;5;124;03m\"\"\"\u001b[39;00m\n\u001b[1;32m    400\u001b[0m \u001b[38;5;124;03m    Extract the ndarray or ExtensionArray from a Series or Index.\u001b[39;00m\n\u001b[1;32m    401\u001b[0m \n\u001b[0;32m   (...)\u001b[0m\n\u001b[1;32m    439\u001b[0m \u001b[38;5;124;03m    array([1, 2, 3])\u001b[39;00m\n\u001b[1;32m    440\u001b[0m \u001b[38;5;124;03m    \"\"\"\u001b[39;00m\n\u001b[0;32m--> 441\u001b[0m     \u001b[38;5;28;01mif\u001b[39;00m \u001b[38;5;28;43misinstance\u001b[39;49m\u001b[43m(\u001b[49m\u001b[43mobj\u001b[49m\u001b[43m,\u001b[49m\u001b[43m \u001b[49m\u001b[43m(\u001b[49m\u001b[43mABCIndex\u001b[49m\u001b[43m,\u001b[49m\u001b[43m \u001b[49m\u001b[43mABCSeries\u001b[49m\u001b[43m)\u001b[49m\u001b[43m)\u001b[49m:\n\u001b[1;32m    442\u001b[0m         \u001b[38;5;28;01mif\u001b[39;00m \u001b[38;5;28misinstance\u001b[39m(obj, ABCRangeIndex):\n\u001b[1;32m    443\u001b[0m             \u001b[38;5;28;01mif\u001b[39;00m extract_range:\n",
      "\u001b[0;31mKeyboardInterrupt\u001b[0m: "
     ]
    }
   ],
   "source": [
    "temperature_jacobian = compute_jacobian(dataset,\n",
    "                                        wl, \n",
    "                                        wrt = 'temperature',\n",
    "                                        save_path = 'jacobians'\n",
    "                                       )"
   ]
  },
  {
   "cell_type": "code",
   "execution_count": null,
   "id": "5214774b-0b21-48e2-a97b-7a525819fd79",
   "metadata": {},
   "outputs": [],
   "source": [
    "gravity_jacobian = compute_jacobian(dataset,\n",
    "                                        wl, \n",
    "                                        wrt = 'gravity',\n",
    "                                        save_path = 'jacobians'\n",
    "                                       )"
   ]
  },
  {
   "cell_type": "code",
   "execution_count": null,
   "id": "b299bfbf-5a7f-495c-8db3-2f76d93198fc",
   "metadata": {},
   "outputs": [],
   "source": [
    "metallicity_jacobian = compute_jacobian(dataset,\n",
    "                                        wl, \n",
    "                                        wrt = 'metallicity',\n",
    "                                        save_path = 'jacobians'\n",
    "                                       )"
   ]
  },
  {
   "cell_type": "code",
   "execution_count": null,
   "id": "0d7a2c37-0dbd-456d-805a-5e5dc310652e",
   "metadata": {},
   "outputs": [],
   "source": [
    "c_o_ratio_jacobian = compute_jacobian(dataset,\n",
    "                                        wl, \n",
    "                                        wrt = 'c_o_ratio',\n",
    "                                        save_path = 'jacobians'\n",
    "                                       )"
   ]
  },
  {
   "cell_type": "markdown",
   "id": "e9dab1b2-893b-4a8e-8a3e-724a71f6d184",
   "metadata": {},
   "source": [
    "## **3. Visualize Jacobian**"
   ]
  },
  {
   "cell_type": "markdown",
   "id": "90ed7886-1584-490c-bbd7-6970dc7dbbd5",
   "metadata": {},
   "source": [
    "Check output by taking a look at the Jacobian value by wavelength, compared to the spectra that determined the estimated partial derivative. "
   ]
  },
  {
   "cell_type": "markdown",
   "id": "c86a7c05-a11d-405c-bf71-080f73c377b2",
   "metadata": {
    "jp-MarkdownHeadingCollapsed": true
   },
   "source": [
    "### **Needs to be generalized⬇️**\n",
    "This plotting function just needs to ingest different labels for visualization purposes, it already is structured for any parameter list."
   ]
  },
  {
   "cell_type": "markdown",
   "id": "61f32dc6-3231-497d-be07-7a647d49b0b5",
   "metadata": {},
   "source": [
    "### Temperature"
   ]
  },
  {
   "cell_type": "code",
   "execution_count": null,
   "id": "e83098a9-3a3c-49ce-9696-6547a8e80cf1",
   "metadata": {},
   "outputs": [],
   "source": [
    "const_dict = {'temperature':1300,\n",
    "    'gravity':4.0,\n",
    "    'c_o_ratio':0.5,\n",
    "    'metallicity':0}\n",
    "\n",
    "delta_flux_delta_J(temperature_jacobian,\n",
    "                   \"temperature\",\n",
    "                   dataset, \n",
    "                   wl,\n",
    "                   const_dict = const_dict,\n",
    "                   logscale=False)"
   ]
  },
  {
   "cell_type": "code",
   "execution_count": null,
   "id": "4a2f9739-6a8f-4531-9123-facc99cf871c",
   "metadata": {},
   "outputs": [],
   "source": [
    "const_dict = {'temperature':1300,\n",
    "    'gravity':4.0,\n",
    "    'c_o_ratio':0.5,\n",
    "    'metallicity':0}\n",
    "\n",
    "delta_flux_delta_J(temperature_jacobian,\n",
    "                   \"temperature\",\n",
    "                   dataset, \n",
    "                   wl,\n",
    "                   const_dict = const_dict,\n",
    "                   logscale=False)"
   ]
  },
  {
   "cell_type": "markdown",
   "id": "00331d9a-8abe-4f37-b945-43944dad1f46",
   "metadata": {},
   "source": [
    "### Gravity"
   ]
  },
  {
   "cell_type": "code",
   "execution_count": null,
   "id": "bc40a6b5-4dff-476d-b7ca-35004238f595",
   "metadata": {},
   "outputs": [],
   "source": [
    "const_dict = {'temperature':1300,\n",
    "    'gravity':4.0,\n",
    "    'c_o_ratio':0.5,\n",
    "    'metallicity':0}\n",
    "\n",
    "delta_flux_delta_J(gravity_jacobian,\n",
    "                   \"gravity\",\n",
    "                   dataset, \n",
    "                   wl,\n",
    "                   const_dict = const_dict,\n",
    "                   logscale=False)"
   ]
  },
  {
   "cell_type": "markdown",
   "id": "e9433a11-c031-4184-bbd6-a7a61f460f7e",
   "metadata": {},
   "source": [
    "### Metallicity"
   ]
  },
  {
   "cell_type": "code",
   "execution_count": null,
   "id": "08478583-06c5-411e-a11c-04627317857f",
   "metadata": {},
   "outputs": [],
   "source": [
    "const_dict = {'temperature':1300,\n",
    "    'gravity':4.0,\n",
    "    'c_o_ratio':0.5,\n",
    "    'metallicity':0}\n",
    "\n",
    "delta_flux_delta_J(metallicity_jacobian,\n",
    "                   \"metallicity\",\n",
    "                   dataset, \n",
    "                   wl,\n",
    "                   const_dict = const_dict,\n",
    "                   logscale=False)"
   ]
  },
  {
   "cell_type": "markdown",
   "id": "a9f3d58e-8d07-44a1-9709-c2ddaa4abc2f",
   "metadata": {},
   "source": [
    "### C/O Ratio"
   ]
  },
  {
   "cell_type": "code",
   "execution_count": null,
   "id": "3776af14-4885-4638-a93c-84d1c750e6d6",
   "metadata": {},
   "outputs": [],
   "source": [
    "const_dict = {'temperature':1300,\n",
    "    'gravity':4.0,\n",
    "    'c_o_ratio':0.5,\n",
    "    'metallicity':0}\n",
    "\n",
    "delta_flux_delta_J(c_o_ratio_jacobian,\n",
    "                   \"c_o_ratio\",\n",
    "                   dataset, \n",
    "                   wl,\n",
    "                   const_dict = const_dict,\n",
    "                   logscale=False)"
   ]
  },
  {
   "cell_type": "code",
   "execution_count": null,
   "id": "92b5dfb3-b47c-4986-8b84-d6ccc5734759",
   "metadata": {},
   "outputs": [],
   "source": []
  },
  {
   "cell_type": "code",
   "execution_count": null,
   "id": "6b7dbfff-4efa-4d10-b2ea-edcb2ea770c1",
   "metadata": {},
   "outputs": [],
   "source": []
  },
  {
   "cell_type": "code",
   "execution_count": null,
   "id": "f7e3cdae-9ece-4386-83b6-5f437be92fca",
   "metadata": {},
   "outputs": [],
   "source": []
  }
 ],
 "metadata": {
  "kernelspec": {
   "display_name": "Python 3 (ipykernel)",
   "language": "python",
   "name": "python3"
  },
  "language_info": {
   "codemirror_mode": {
    "name": "ipython",
    "version": 3
   },
   "file_extension": ".py",
   "mimetype": "text/x-python",
   "name": "python",
   "nbconvert_exporter": "python",
   "pygments_lexer": "ipython3",
   "version": "3.9.16"
  }
 },
 "nbformat": 4,
 "nbformat_minor": 5
}
